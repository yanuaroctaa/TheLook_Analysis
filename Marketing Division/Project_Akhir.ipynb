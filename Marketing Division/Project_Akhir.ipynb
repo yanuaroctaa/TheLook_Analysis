{
  "cells": [
    {
      "cell_type": "code",
      "execution_count": null,
      "metadata": {
        "id": "KW62hxfRSMZC"
      },
      "outputs": [],
      "source": [
        "import pandas as pd\n",
        "import numpy as np\n",
        "import matplotlib.pyplot as plt\n",
        "import seaborn as sns"
      ]
    },
    {
      "cell_type": "code",
      "execution_count": null,
      "metadata": {
        "colab": {
          "base_uri": "https://localhost:8080/"
        },
        "id": "Ga7tm4gIUEBl",
        "outputId": "531c8987-fd75-456f-b3bf-351fd9e6d4bd"
      },
      "outputs": [
        {
          "name": "stdout",
          "output_type": "stream",
          "text": [
            "Mounted at /content/drive\n"
          ]
        }
      ],
      "source": [
        "from google.colab import drive\n",
        "drive.mount('/content/drive')"
      ]
    },
    {
      "cell_type": "markdown",
      "metadata": {
        "id": "np8SaKX6SMZH"
      },
      "source": [
        "# Data Cleaning"
      ]
    },
    {
      "cell_type": "code",
      "execution_count": null,
      "metadata": {
        "id": "uS2GU_gDSMZJ"
      },
      "outputs": [],
      "source": [
        "data = pd.read_csv('/content/drive/MyDrive/Projek Akhir/Data_total.csv')"
      ]
    },
    {
      "cell_type": "code",
      "execution_count": null,
      "metadata": {
        "colab": {
          "base_uri": "https://localhost:8080/"
        },
        "id": "x85XIdFWSMZK",
        "outputId": "4f0614e6-af44-48d8-c175-da3962f40f42"
      },
      "outputs": [
        {
          "name": "stdout",
          "output_type": "stream",
          "text": [
            "<class 'pandas.core.frame.DataFrame'>\n",
            "RangeIndex: 166663 entries, 0 to 166662\n",
            "Data columns (total 10 columns):\n",
            " #   Column          Non-Null Count   Dtype  \n",
            "---  ------          --------------   -----  \n",
            " 0   id              166663 non-null  int64  \n",
            " 1   age             166663 non-null  int64  \n",
            " 2   gender          166663 non-null  object \n",
            " 3   country         166663 non-null  object \n",
            " 4   traffic_source  166663 non-null  object \n",
            " 5   created_at      166663 non-null  object \n",
            " 6   latitude        166663 non-null  float64\n",
            " 7   longitude       166663 non-null  float64\n",
            " 8   category        150012 non-null  object \n",
            " 9   brand           149898 non-null  object \n",
            "dtypes: float64(2), int64(2), object(6)\n",
            "memory usage: 12.7+ MB\n"
          ]
        }
      ],
      "source": [
        "data.info()"
      ]
    },
    {
      "cell_type": "code",
      "execution_count": null,
      "metadata": {
        "colab": {
          "base_uri": "https://localhost:8080/"
        },
        "id": "bKgRXURJSMZL",
        "outputId": "7ae44e05-d3fc-42c0-9c0f-1a77fb309a50"
      },
      "outputs": [
        {
          "name": "stdout",
          "output_type": "stream",
          "text": [
            "id                    0\n",
            "age                   0\n",
            "gender                0\n",
            "country               0\n",
            "traffic_source        0\n",
            "created_at            0\n",
            "latitude              0\n",
            "longitude             0\n",
            "category          16651\n",
            "brand             16765\n",
            "dtype: int64\n"
          ]
        }
      ],
      "source": [
        "print(data.isnull().sum())"
      ]
    },
    {
      "cell_type": "code",
      "execution_count": null,
      "metadata": {
        "id": "df4nmMU3SMZM"
      },
      "outputs": [],
      "source": [
        "# Menghapus Missing Values di baris\n",
        "data = data.dropna(axis=0)"
      ]
    },
    {
      "cell_type": "code",
      "execution_count": null,
      "metadata": {
        "colab": {
          "base_uri": "https://localhost:8080/"
        },
        "id": "Wxynix61SMZN",
        "outputId": "ba22c2df-f7b6-425f-be85-cd53112ae844"
      },
      "outputs": [
        {
          "name": "stdout",
          "output_type": "stream",
          "text": [
            "id                0\n",
            "age               0\n",
            "gender            0\n",
            "country           0\n",
            "traffic_source    0\n",
            "created_at        0\n",
            "latitude          0\n",
            "longitude         0\n",
            "category          0\n",
            "brand             0\n",
            "dtype: int64\n"
          ]
        }
      ],
      "source": [
        "print(data.isnull().sum())"
      ]
    },
    {
      "cell_type": "code",
      "execution_count": null,
      "metadata": {
        "colab": {
          "base_uri": "https://localhost:8080/",
          "height": 373
        },
        "id": "WBCbiTIwSMZO",
        "outputId": "305d9184-3727-4aa7-8b24-af2727d3a3be"
      },
      "outputs": [
        {
          "name": "stderr",
          "output_type": "stream",
          "text": [
            "/usr/local/lib/python3.7/dist-packages/matplotlib/cbook/__init__.py:1376: VisibleDeprecationWarning: Creating an ndarray from ragged nested sequences (which is a list-or-tuple of lists-or-tuples-or ndarrays with different lengths or shapes) is deprecated. If you meant to do this, you must specify 'dtype=object' when creating the ndarray.\n",
            "  X = np.atleast_1d(X.T if isinstance(X, np.ndarray) else np.asarray(X))\n"
          ]
        },
        {
          "data": {
            "text/plain": [
              "<matplotlib.axes._subplots.AxesSubplot at 0x7fabc10ad650>"
            ]
          },
          "execution_count": 8,
          "metadata": {},
          "output_type": "execute_result"
        },
        {
          "data": {
            "image/png": "[encoded data removed]",
            "text/plain": [
              "<Figure size 432x288 with 1 Axes>"
            ]
          },
          "metadata": {
            "needs_background": "light"
          },
          "output_type": "display_data"
        }
      ],
      "source": [
        "data.boxplot(by ='gender', column =['age'], grid = False)"
      ]
    },
    {
      "cell_type": "code",
      "execution_count": null,
      "metadata": {
        "colab": {
          "base_uri": "https://localhost:8080/"
        },
        "id": "SbY390NuSMZP",
        "outputId": "7e1c61fd-036b-4e63-e88a-c721a43c69c5"
      },
      "outputs": [
        {
          "name": "stdout",
          "output_type": "stream",
          "text": [
            "Shape awal:  (149898, 10)\n",
            "Shape akhir:  (149898, 10)\n"
          ]
        }
      ],
      "source": [
        "# Check Outlier\n",
        "# Q1, Q3, dan IQR\n",
        "Q1 = data['age'].quantile(0.25)\n",
        "Q3 = data['age'].quantile(0.75)\n",
        "IQR = Q3 - Q1\n",
        "\n",
        "# Check ukuran (baris dan kolom) sebelum data yang outliers dibuang\n",
        "print('Shape awal: ', data.shape)\n",
        "\n",
        "# Removing outliers\n",
        "data = data[~((data['age'] < (Q1 - 1.5 * IQR)) | (Q1 - 1.5 * data['age'] > (Q3 - 1.5 * IQR)))]\n",
        "\n",
        "# Check ukuran (baris dan kolom) setelah data yang outliers dibuang\n",
        "print('Shape akhir: ', data.shape)"
      ]
    },
    {
      "cell_type": "markdown",
      "metadata": {
        "id": "gwUe9UCVSMZP"
      },
      "source": [
        "# EDA"
      ]
    },
    {
      "cell_type": "markdown",
      "metadata": {
        "id": "ydZS6msQSMZQ"
      },
      "source": [
        "## Data Transforming"
      ]
    },
    {
      "cell_type": "code",
      "execution_count": null,
      "metadata": {
        "colab": {
          "base_uri": "https://localhost:8080/"
        },
        "id": "B650YSLASMZR",
        "outputId": "6368825c-cb48-4399-9bc8-f777395d8a49"
      },
      "outputs": [
        {
          "name": "stdout",
          "output_type": "stream",
          "text": [
            "<class 'pandas.core.frame.DataFrame'>\n",
            "Int64Index: 149898 entries, 0 to 162432\n",
            "Data columns (total 10 columns):\n",
            " #   Column          Non-Null Count   Dtype         \n",
            "---  ------          --------------   -----         \n",
            " 0   id              149898 non-null  int64         \n",
            " 1   age             149898 non-null  int64         \n",
            " 2   gender          149898 non-null  object        \n",
            " 3   country         149898 non-null  object        \n",
            " 4   traffic_source  149898 non-null  object        \n",
            " 5   created_at      149898 non-null  datetime64[ns]\n",
            " 6   latitude        149898 non-null  float64       \n",
            " 7   longitude       149898 non-null  float64       \n",
            " 8   category        149898 non-null  object        \n",
            " 9   brand           149898 non-null  object        \n",
            "dtypes: datetime64[ns](1), float64(2), int64(2), object(5)\n",
            "memory usage: 12.6+ MB\n"
          ]
        }
      ],
      "source": [
        "# Mengubah data timestamp\n",
        "data['created_at'] = pd.to_datetime(data['created_at'])\n",
        "data.info()"
      ]
    },
    {
      "cell_type": "code",
      "execution_count": null,
      "metadata": {
        "id": "jKSXie3DSMZR"
      },
      "outputs": [],
      "source": [
        "# Menambahkan kategori umur\n",
        "data['Kategori_umur'] = np.where(data[\"age\"] <= 20 , 'Muda', \"Dewasa\")"
      ]
    },
    {
      "cell_type": "code",
      "execution_count": null,
      "metadata": {
        "colab": {
          "base_uri": "https://localhost:8080/"
        },
        "id": "TEbYLzsaSMZS",
        "outputId": "8f99c9b2-449f-4d48-817a-a843b02cddec"
      },
      "outputs": [
        {
          "data": {
            "text/plain": [
              "Dewasa    122769\n",
              "Muda       27129\n",
              "Name: Kategori_umur, dtype: int64"
            ]
          },
          "execution_count": 12,
          "metadata": {},
          "output_type": "execute_result"
        }
      ],
      "source": [
        "data['Kategori_umur'].value_counts()"
      ]
    },
    {
      "cell_type": "code",
      "execution_count": null,
      "metadata": {
        "id": "5c6GCa7bSMZS"
      },
      "outputs": [],
      "source": [
        "# mempersiapkan data yang akan diolah untuk model kan\n",
        "data_final = data[['age','Kategori_umur', 'gender', 'country', 'traffic_source','category']]"
      ]
    },
    {
      "cell_type": "code",
      "execution_count": null,
      "metadata": {
        "colab": {
          "base_uri": "https://localhost:8080/"
        },
        "id": "F4jFz63xSMZS",
        "outputId": "f6baab0a-6f07-4c15-a480-3aa91f70769b"
      },
      "outputs": [
        {
          "name": "stdout",
          "output_type": "stream",
          "text": [
            "<class 'pandas.core.frame.DataFrame'>\n",
            "Int64Index: 149898 entries, 0 to 162432\n",
            "Data columns (total 6 columns):\n",
            " #   Column          Non-Null Count   Dtype \n",
            "---  ------          --------------   ----- \n",
            " 0   age             149898 non-null  int64 \n",
            " 1   Kategori_umur   149898 non-null  object\n",
            " 2   gender          149898 non-null  object\n",
            " 3   country         149898 non-null  object\n",
            " 4   traffic_source  149898 non-null  object\n",
            " 5   category        149898 non-null  object\n",
            "dtypes: int64(1), object(5)\n",
            "memory usage: 8.0+ MB\n"
          ]
        }
      ],
      "source": [
        "data_final.info()"
      ]
    },
    {
      "cell_type": "code",
      "execution_count": null,
      "metadata": {
        "id": "F1g1G6GhSMZT"
      },
      "outputs": [],
      "source": [
        "from sklearn.preprocessing import StandardScaler, OneHotEncoder\n",
        "\n",
        "encoder = OneHotEncoder()\n",
        "encoder.fit(data_final.select_dtypes(include='object'))\n",
        "X_onehot = pd.DataFrame(encoder.transform(data_final.select_dtypes('object')).toarray(), columns=encoder.get_feature_names_out())\n",
        "\n",
        "X_preprocessed = pd.concat([data_final.select_dtypes(exclude='object'), X_onehot], axis=1)"
      ]
    },
    {
      "cell_type": "code",
      "execution_count": null,
      "metadata": {
        "colab": {
          "base_uri": "https://localhost:8080/"
        },
        "id": "7EoloZWMSMZT",
        "outputId": "5523c496-32af-4bb6-cad6-6a8d9c1ceaa8"
      },
      "outputs": [
        {
          "name": "stdout",
          "output_type": "stream",
          "text": [
            "<class 'pandas.core.frame.DataFrame'>\n",
            "Int64Index: 162426 entries, 0 to 162432\n",
            "Data columns (total 51 columns):\n",
            " #   Column                                  Non-Null Count   Dtype  \n",
            "---  ------                                  --------------   -----  \n",
            " 0   age                                     149898 non-null  float64\n",
            " 1   Kategori_umur_Dewasa                    149898 non-null  float64\n",
            " 2   Kategori_umur_Muda                      149898 non-null  float64\n",
            " 3   gender_F                                149898 non-null  float64\n",
            " 4   gender_M                                149898 non-null  float64\n",
            " 5   country_Australia                       149898 non-null  float64\n",
            " 6   country_Austria                         149898 non-null  float64\n",
            " 7   country_Belgium                         149898 non-null  float64\n",
            " 8   country_Brasil                          149898 non-null  float64\n",
            " 9   country_China                           149898 non-null  float64\n",
            " 10  country_Colombia                        149898 non-null  float64\n",
            " 11  country_España                          149898 non-null  float64\n",
            " 12  country_France                          149898 non-null  float64\n",
            " 13  country_Germany                         149898 non-null  float64\n",
            " 14  country_Japan                           149898 non-null  float64\n",
            " 15  country_Poland                          149898 non-null  float64\n",
            " 16  country_South Korea                     149898 non-null  float64\n",
            " 17  country_Spain                           149898 non-null  float64\n",
            " 18  country_United Kingdom                  149898 non-null  float64\n",
            " 19  country_United States                   149898 non-null  float64\n",
            " 20  traffic_source_Display                  149898 non-null  float64\n",
            " 21  traffic_source_Email                    149898 non-null  float64\n",
            " 22  traffic_source_Facebook                 149898 non-null  float64\n",
            " 23  traffic_source_Organic                  149898 non-null  float64\n",
            " 24  traffic_source_Search                   149898 non-null  float64\n",
            " 25  category_Accessories                    149898 non-null  float64\n",
            " 26  category_Active                         149898 non-null  float64\n",
            " 27  category_Blazers & Jackets              149898 non-null  float64\n",
            " 28  category_Clothing Sets                  149898 non-null  float64\n",
            " 29  category_Dresses                        149898 non-null  float64\n",
            " 30  category_Fashion Hoodies & Sweatshirts  149898 non-null  float64\n",
            " 31  category_Intimates                      149898 non-null  float64\n",
            " 32  category_Jeans                          149898 non-null  float64\n",
            " 33  category_Jumpsuits & Rompers            149898 non-null  float64\n",
            " 34  category_Leggings                       149898 non-null  float64\n",
            " 35  category_Maternity                      149898 non-null  float64\n",
            " 36  category_Outerwear & Coats              149898 non-null  float64\n",
            " 37  category_Pants                          149898 non-null  float64\n",
            " 38  category_Pants & Capris                 149898 non-null  float64\n",
            " 39  category_Plus                           149898 non-null  float64\n",
            " 40  category_Shorts                         149898 non-null  float64\n",
            " 41  category_Skirts                         149898 non-null  float64\n",
            " 42  category_Sleep & Lounge                 149898 non-null  float64\n",
            " 43  category_Socks                          149898 non-null  float64\n",
            " 44  category_Socks & Hosiery                149898 non-null  float64\n",
            " 45  category_Suits                          149898 non-null  float64\n",
            " 46  category_Suits & Sport Coats            149898 non-null  float64\n",
            " 47  category_Sweaters                       149898 non-null  float64\n",
            " 48  category_Swim                           149898 non-null  float64\n",
            " 49  category_Tops & Tees                    149898 non-null  float64\n",
            " 50  category_Underwear                      149898 non-null  float64\n",
            "dtypes: float64(51)\n",
            "memory usage: 64.4 MB\n"
          ]
        }
      ],
      "source": [
        "X_preprocessed.info()"
      ]
    },
    {
      "cell_type": "code",
      "execution_count": null,
      "metadata": {
        "colab": {
          "base_uri": "https://localhost:8080/",
          "height": 505
        },
        "id": "vomAsP3nijWV",
        "outputId": "c318ac23-4d09-494c-98d8-4776e4be9a20"
      },
      "outputs": [
        {
          "data": {
            "text/html": [
              "\n",
              "  <div id=\"df-b593ee38-e004-410c-af8e-4c45c3782860\">\n",
              "    <div class=\"colab-df-container\">\n",
              "      <div>\n",
              "<style scoped>\n",
              "    .dataframe tbody tr th:only-of-type {\n",
              "        vertical-align: middle;\n",
              "    }\n",
              "\n",
              "    .dataframe tbody tr th {\n",
              "        vertical-align: top;\n",
              "    }\n",
              "\n",
              "    .dataframe thead th {\n",
              "        text-align: right;\n",
              "    }\n",
              "</style>\n",
              "<table border=\"1\" class=\"dataframe\">\n",
              "  <thead>\n",
              "    <tr style=\"text-align: right;\">\n",
              "      <th></th>\n",
              "      <th>age</th>\n",
              "      <th>Kategori_umur_Dewasa</th>\n",
              "      <th>Kategori_umur_Muda</th>\n",
              "      <th>gender_F</th>\n",
              "      <th>gender_M</th>\n",
              "      <th>country_Australia</th>\n",
              "      <th>country_Austria</th>\n",
              "      <th>country_Belgium</th>\n",
              "      <th>country_Brasil</th>\n",
              "      <th>country_China</th>\n",
              "      <th>...</th>\n",
              "      <th>category_Skirts</th>\n",
              "      <th>category_Sleep &amp; Lounge</th>\n",
              "      <th>category_Socks</th>\n",
              "      <th>category_Socks &amp; Hosiery</th>\n",
              "      <th>category_Suits</th>\n",
              "      <th>category_Suits &amp; Sport Coats</th>\n",
              "      <th>category_Sweaters</th>\n",
              "      <th>category_Swim</th>\n",
              "      <th>category_Tops &amp; Tees</th>\n",
              "      <th>category_Underwear</th>\n",
              "    </tr>\n",
              "  </thead>\n",
              "  <tbody>\n",
              "    <tr>\n",
              "      <th>0</th>\n",
              "      <td>44.0</td>\n",
              "      <td>1.0</td>\n",
              "      <td>0.0</td>\n",
              "      <td>1.0</td>\n",
              "      <td>0.0</td>\n",
              "      <td>0.0</td>\n",
              "      <td>0.0</td>\n",
              "      <td>0.0</td>\n",
              "      <td>0.0</td>\n",
              "      <td>1.0</td>\n",
              "      <td>...</td>\n",
              "      <td>0.0</td>\n",
              "      <td>0.0</td>\n",
              "      <td>0.0</td>\n",
              "      <td>0.0</td>\n",
              "      <td>0.0</td>\n",
              "      <td>0.0</td>\n",
              "      <td>0.0</td>\n",
              "      <td>0.0</td>\n",
              "      <td>0.0</td>\n",
              "      <td>0.0</td>\n",
              "    </tr>\n",
              "    <tr>\n",
              "      <th>1</th>\n",
              "      <td>45.0</td>\n",
              "      <td>1.0</td>\n",
              "      <td>0.0</td>\n",
              "      <td>1.0</td>\n",
              "      <td>0.0</td>\n",
              "      <td>0.0</td>\n",
              "      <td>0.0</td>\n",
              "      <td>0.0</td>\n",
              "      <td>0.0</td>\n",
              "      <td>0.0</td>\n",
              "      <td>...</td>\n",
              "      <td>0.0</td>\n",
              "      <td>0.0</td>\n",
              "      <td>0.0</td>\n",
              "      <td>0.0</td>\n",
              "      <td>0.0</td>\n",
              "      <td>0.0</td>\n",
              "      <td>0.0</td>\n",
              "      <td>0.0</td>\n",
              "      <td>0.0</td>\n",
              "      <td>0.0</td>\n",
              "    </tr>\n",
              "    <tr>\n",
              "      <th>2</th>\n",
              "      <td>41.0</td>\n",
              "      <td>1.0</td>\n",
              "      <td>0.0</td>\n",
              "      <td>0.0</td>\n",
              "      <td>1.0</td>\n",
              "      <td>0.0</td>\n",
              "      <td>0.0</td>\n",
              "      <td>0.0</td>\n",
              "      <td>0.0</td>\n",
              "      <td>1.0</td>\n",
              "      <td>...</td>\n",
              "      <td>0.0</td>\n",
              "      <td>0.0</td>\n",
              "      <td>0.0</td>\n",
              "      <td>0.0</td>\n",
              "      <td>0.0</td>\n",
              "      <td>0.0</td>\n",
              "      <td>0.0</td>\n",
              "      <td>0.0</td>\n",
              "      <td>0.0</td>\n",
              "      <td>0.0</td>\n",
              "    </tr>\n",
              "    <tr>\n",
              "      <th>3</th>\n",
              "      <td>14.0</td>\n",
              "      <td>0.0</td>\n",
              "      <td>1.0</td>\n",
              "      <td>0.0</td>\n",
              "      <td>1.0</td>\n",
              "      <td>0.0</td>\n",
              "      <td>0.0</td>\n",
              "      <td>0.0</td>\n",
              "      <td>0.0</td>\n",
              "      <td>0.0</td>\n",
              "      <td>...</td>\n",
              "      <td>0.0</td>\n",
              "      <td>0.0</td>\n",
              "      <td>0.0</td>\n",
              "      <td>0.0</td>\n",
              "      <td>0.0</td>\n",
              "      <td>0.0</td>\n",
              "      <td>0.0</td>\n",
              "      <td>0.0</td>\n",
              "      <td>0.0</td>\n",
              "      <td>0.0</td>\n",
              "    </tr>\n",
              "    <tr>\n",
              "      <th>4</th>\n",
              "      <td>50.0</td>\n",
              "      <td>1.0</td>\n",
              "      <td>0.0</td>\n",
              "      <td>0.0</td>\n",
              "      <td>1.0</td>\n",
              "      <td>1.0</td>\n",
              "      <td>0.0</td>\n",
              "      <td>0.0</td>\n",
              "      <td>0.0</td>\n",
              "      <td>0.0</td>\n",
              "      <td>...</td>\n",
              "      <td>0.0</td>\n",
              "      <td>0.0</td>\n",
              "      <td>0.0</td>\n",
              "      <td>0.0</td>\n",
              "      <td>0.0</td>\n",
              "      <td>0.0</td>\n",
              "      <td>0.0</td>\n",
              "      <td>0.0</td>\n",
              "      <td>0.0</td>\n",
              "      <td>0.0</td>\n",
              "    </tr>\n",
              "    <tr>\n",
              "      <th>...</th>\n",
              "      <td>...</td>\n",
              "      <td>...</td>\n",
              "      <td>...</td>\n",
              "      <td>...</td>\n",
              "      <td>...</td>\n",
              "      <td>...</td>\n",
              "      <td>...</td>\n",
              "      <td>...</td>\n",
              "      <td>...</td>\n",
              "      <td>...</td>\n",
              "      <td>...</td>\n",
              "      <td>...</td>\n",
              "      <td>...</td>\n",
              "      <td>...</td>\n",
              "      <td>...</td>\n",
              "      <td>...</td>\n",
              "      <td>...</td>\n",
              "      <td>...</td>\n",
              "      <td>...</td>\n",
              "      <td>...</td>\n",
              "      <td>...</td>\n",
              "    </tr>\n",
              "    <tr>\n",
              "      <th>162428</th>\n",
              "      <td>18.0</td>\n",
              "      <td>NaN</td>\n",
              "      <td>NaN</td>\n",
              "      <td>NaN</td>\n",
              "      <td>NaN</td>\n",
              "      <td>NaN</td>\n",
              "      <td>NaN</td>\n",
              "      <td>NaN</td>\n",
              "      <td>NaN</td>\n",
              "      <td>NaN</td>\n",
              "      <td>...</td>\n",
              "      <td>NaN</td>\n",
              "      <td>NaN</td>\n",
              "      <td>NaN</td>\n",
              "      <td>NaN</td>\n",
              "      <td>NaN</td>\n",
              "      <td>NaN</td>\n",
              "      <td>NaN</td>\n",
              "      <td>NaN</td>\n",
              "      <td>NaN</td>\n",
              "      <td>NaN</td>\n",
              "    </tr>\n",
              "    <tr>\n",
              "      <th>162429</th>\n",
              "      <td>57.0</td>\n",
              "      <td>NaN</td>\n",
              "      <td>NaN</td>\n",
              "      <td>NaN</td>\n",
              "      <td>NaN</td>\n",
              "      <td>NaN</td>\n",
              "      <td>NaN</td>\n",
              "      <td>NaN</td>\n",
              "      <td>NaN</td>\n",
              "      <td>NaN</td>\n",
              "      <td>...</td>\n",
              "      <td>NaN</td>\n",
              "      <td>NaN</td>\n",
              "      <td>NaN</td>\n",
              "      <td>NaN</td>\n",
              "      <td>NaN</td>\n",
              "      <td>NaN</td>\n",
              "      <td>NaN</td>\n",
              "      <td>NaN</td>\n",
              "      <td>NaN</td>\n",
              "      <td>NaN</td>\n",
              "    </tr>\n",
              "    <tr>\n",
              "      <th>162430</th>\n",
              "      <td>44.0</td>\n",
              "      <td>NaN</td>\n",
              "      <td>NaN</td>\n",
              "      <td>NaN</td>\n",
              "      <td>NaN</td>\n",
              "      <td>NaN</td>\n",
              "      <td>NaN</td>\n",
              "      <td>NaN</td>\n",
              "      <td>NaN</td>\n",
              "      <td>NaN</td>\n",
              "      <td>...</td>\n",
              "      <td>NaN</td>\n",
              "      <td>NaN</td>\n",
              "      <td>NaN</td>\n",
              "      <td>NaN</td>\n",
              "      <td>NaN</td>\n",
              "      <td>NaN</td>\n",
              "      <td>NaN</td>\n",
              "      <td>NaN</td>\n",
              "      <td>NaN</td>\n",
              "      <td>NaN</td>\n",
              "    </tr>\n",
              "    <tr>\n",
              "      <th>162431</th>\n",
              "      <td>23.0</td>\n",
              "      <td>NaN</td>\n",
              "      <td>NaN</td>\n",
              "      <td>NaN</td>\n",
              "      <td>NaN</td>\n",
              "      <td>NaN</td>\n",
              "      <td>NaN</td>\n",
              "      <td>NaN</td>\n",
              "      <td>NaN</td>\n",
              "      <td>NaN</td>\n",
              "      <td>...</td>\n",
              "      <td>NaN</td>\n",
              "      <td>NaN</td>\n",
              "      <td>NaN</td>\n",
              "      <td>NaN</td>\n",
              "      <td>NaN</td>\n",
              "      <td>NaN</td>\n",
              "      <td>NaN</td>\n",
              "      <td>NaN</td>\n",
              "      <td>NaN</td>\n",
              "      <td>NaN</td>\n",
              "    </tr>\n",
              "    <tr>\n",
              "      <th>162432</th>\n",
              "      <td>48.0</td>\n",
              "      <td>NaN</td>\n",
              "      <td>NaN</td>\n",
              "      <td>NaN</td>\n",
              "      <td>NaN</td>\n",
              "      <td>NaN</td>\n",
              "      <td>NaN</td>\n",
              "      <td>NaN</td>\n",
              "      <td>NaN</td>\n",
              "      <td>NaN</td>\n",
              "      <td>...</td>\n",
              "      <td>NaN</td>\n",
              "      <td>NaN</td>\n",
              "      <td>NaN</td>\n",
              "      <td>NaN</td>\n",
              "      <td>NaN</td>\n",
              "      <td>NaN</td>\n",
              "      <td>NaN</td>\n",
              "      <td>NaN</td>\n",
              "      <td>NaN</td>\n",
              "      <td>NaN</td>\n",
              "    </tr>\n",
              "  </tbody>\n",
              "</table>\n",
              "<p>162426 rows × 51 columns</p>\n",
              "</div>\n",
              "      <button class=\"colab-df-convert\" onclick=\"convertToInteractive('df-b593ee38-e004-410c-af8e-4c45c3782860')\"\n",
              "              title=\"Convert this dataframe to an interactive table.\"\n",
              "              style=\"display:none;\">\n",
              "        \n",
              "  <svg xmlns=\"http://www.w3.org/2000/svg\" height=\"24px\"viewBox=\"0 0 24 24\"\n",
              "       width=\"24px\">\n",
              "    <path d=\"M0 0h24v24H0V0z\" fill=\"none\"/>\n",
              "    <path d=\"M18.56 5.44l.94 2.06.94-2.06 2.06-.94-2.06-.94-.94-2.06-.94 2.06-2.06.94zm-11 1L8.5 8.5l.94-2.06 2.06-.94-2.06-.94L8.5 2.5l-.94 2.06-2.06.94zm10 10l.94 2.06.94-2.06 2.06-.94-2.06-.94-.94-2.06-.94 2.06-2.06.94z\"/><path d=\"M17.41 7.96l-1.37-1.37c-.4-.4-.92-.59-1.43-.59-.52 0-1.04.2-1.43.59L10.3 9.45l-7.72 7.72c-.78.78-.78 2.05 0 2.83L4 21.41c.39.39.9.59 1.41.59.51 0 1.02-.2 1.41-.59l7.78-7.78 2.81-2.81c.8-.78.8-2.07 0-2.86zM5.41 20L4 18.59l7.72-7.72 1.47 1.35L5.41 20z\"/>\n",
              "  </svg>\n",
              "      </button>\n",
              "      \n",
              "  <style>\n",
              "    .colab-df-container {\n",
              "      display:flex;\n",
              "      flex-wrap:wrap;\n",
              "      gap: 12px;\n",
              "    }\n",
              "\n",
              "    .colab-df-convert {\n",
              "      background-color: #E8F0FE;\n",
              "      border: none;\n",
              "      border-radius: 50%;\n",
              "      cursor: pointer;\n",
              "      display: none;\n",
              "      fill: #1967D2;\n",
              "      height: 32px;\n",
              "      padding: 0 0 0 0;\n",
              "      width: 32px;\n",
              "    }\n",
              "\n",
              "    .colab-df-convert:hover {\n",
              "      background-color: #E2EBFA;\n",
              "      box-shadow: 0px 1px 2px rgba(60, 64, 67, 0.3), 0px 1px 3px 1px rgba(60, 64, 67, 0.15);\n",
              "      fill: #174EA6;\n",
              "    }\n",
              "\n",
              "    [theme=dark] .colab-df-convert {\n",
              "      background-color: #3B4455;\n",
              "      fill: #D2E3FC;\n",
              "    }\n",
              "\n",
              "    [theme=dark] .colab-df-convert:hover {\n",
              "      background-color: #434B5C;\n",
              "      box-shadow: 0px 1px 3px 1px rgba(0, 0, 0, 0.15);\n",
              "      filter: drop-shadow(0px 1px 2px rgba(0, 0, 0, 0.3));\n",
              "      fill: #FFFFFF;\n",
              "    }\n",
              "  </style>\n",
              "\n",
              "      <script>\n",
              "        const buttonEl =\n",
              "          document.querySelector('#df-b593ee38-e004-410c-af8e-4c45c3782860 button.colab-df-convert');\n",
              "        buttonEl.style.display =\n",
              "          google.colab.kernel.accessAllowed ? 'block' : 'none';\n",
              "\n",
              "        async function convertToInteractive(key) {\n",
              "          const element = document.querySelector('#df-b593ee38-e004-410c-af8e-4c45c3782860');\n",
              "          const dataTable =\n",
              "            await google.colab.kernel.invokeFunction('convertToInteractive',\n",
              "                                                     [key], {});\n",
              "          if (!dataTable) return;\n",
              "\n",
              "          const docLinkHtml = 'Like what you see? Visit the ' +\n",
              "            '<a target=\"_blank\" href=https://colab.research.google.com/notebooks/data_table.ipynb>data table notebook</a>'\n",
              "            + ' to learn more about interactive tables.';\n",
              "          element.innerHTML = '';\n",
              "          dataTable['output_type'] = 'display_data';\n",
              "          await google.colab.output.renderOutput(dataTable, element);\n",
              "          const docLink = document.createElement('div');\n",
              "          docLink.innerHTML = docLinkHtml;\n",
              "          element.appendChild(docLink);\n",
              "        }\n",
              "      </script>\n",
              "    </div>\n",
              "  </div>\n",
              "  "
            ],
            "text/plain": [
              "         age  Kategori_umur_Dewasa  Kategori_umur_Muda  gender_F  gender_M  \\\n",
              "0       44.0                   1.0                 0.0       1.0       0.0   \n",
              "1       45.0                   1.0                 0.0       1.0       0.0   \n",
              "2       41.0                   1.0                 0.0       0.0       1.0   \n",
              "3       14.0                   0.0                 1.0       0.0       1.0   \n",
              "4       50.0                   1.0                 0.0       0.0       1.0   \n",
              "...      ...                   ...                 ...       ...       ...   \n",
              "162428  18.0                   NaN                 NaN       NaN       NaN   \n",
              "162429  57.0                   NaN                 NaN       NaN       NaN   \n",
              "162430  44.0                   NaN                 NaN       NaN       NaN   \n",
              "162431  23.0                   NaN                 NaN       NaN       NaN   \n",
              "162432  48.0                   NaN                 NaN       NaN       NaN   \n",
              "\n",
              "        country_Australia  country_Austria  country_Belgium  country_Brasil  \\\n",
              "0                     0.0              0.0              0.0             0.0   \n",
              "1                     0.0              0.0              0.0             0.0   \n",
              "2                     0.0              0.0              0.0             0.0   \n",
              "3                     0.0              0.0              0.0             0.0   \n",
              "4                     1.0              0.0              0.0             0.0   \n",
              "...                   ...              ...              ...             ...   \n",
              "162428                NaN              NaN              NaN             NaN   \n",
              "162429                NaN              NaN              NaN             NaN   \n",
              "162430                NaN              NaN              NaN             NaN   \n",
              "162431                NaN              NaN              NaN             NaN   \n",
              "162432                NaN              NaN              NaN             NaN   \n",
              "\n",
              "        country_China  ...  category_Skirts  category_Sleep & Lounge  \\\n",
              "0                 1.0  ...              0.0                      0.0   \n",
              "1                 0.0  ...              0.0                      0.0   \n",
              "2                 1.0  ...              0.0                      0.0   \n",
              "3                 0.0  ...              0.0                      0.0   \n",
              "4                 0.0  ...              0.0                      0.0   \n",
              "...               ...  ...              ...                      ...   \n",
              "162428            NaN  ...              NaN                      NaN   \n",
              "162429            NaN  ...              NaN                      NaN   \n",
              "162430            NaN  ...              NaN                      NaN   \n",
              "162431            NaN  ...              NaN                      NaN   \n",
              "162432            NaN  ...              NaN                      NaN   \n",
              "\n",
              "        category_Socks  category_Socks & Hosiery  category_Suits  \\\n",
              "0                  0.0                       0.0             0.0   \n",
              "1                  0.0                       0.0             0.0   \n",
              "2                  0.0                       0.0             0.0   \n",
              "3                  0.0                       0.0             0.0   \n",
              "4                  0.0                       0.0             0.0   \n",
              "...                ...                       ...             ...   \n",
              "162428             NaN                       NaN             NaN   \n",
              "162429             NaN                       NaN             NaN   \n",
              "162430             NaN                       NaN             NaN   \n",
              "162431             NaN                       NaN             NaN   \n",
              "162432             NaN                       NaN             NaN   \n",
              "\n",
              "        category_Suits & Sport Coats  category_Sweaters  category_Swim  \\\n",
              "0                                0.0                0.0            0.0   \n",
              "1                                0.0                0.0            0.0   \n",
              "2                                0.0                0.0            0.0   \n",
              "3                                0.0                0.0            0.0   \n",
              "4                                0.0                0.0            0.0   \n",
              "...                              ...                ...            ...   \n",
              "162428                           NaN                NaN            NaN   \n",
              "162429                           NaN                NaN            NaN   \n",
              "162430                           NaN                NaN            NaN   \n",
              "162431                           NaN                NaN            NaN   \n",
              "162432                           NaN                NaN            NaN   \n",
              "\n",
              "        category_Tops & Tees  category_Underwear  \n",
              "0                        0.0                 0.0  \n",
              "1                        0.0                 0.0  \n",
              "2                        0.0                 0.0  \n",
              "3                        0.0                 0.0  \n",
              "4                        0.0                 0.0  \n",
              "...                      ...                 ...  \n",
              "162428                   NaN                 NaN  \n",
              "162429                   NaN                 NaN  \n",
              "162430                   NaN                 NaN  \n",
              "162431                   NaN                 NaN  \n",
              "162432                   NaN                 NaN  \n",
              "\n",
              "[162426 rows x 51 columns]"
            ]
          },
          "execution_count": 17,
          "metadata": {},
          "output_type": "execute_result"
        }
      ],
      "source": [
        "X_preprocessed"
      ]
    },
    {
      "cell_type": "code",
      "execution_count": null,
      "metadata": {
        "colab": {
          "base_uri": "https://localhost:8080/"
        },
        "id": "HhddVat8i0pe",
        "outputId": "fccb80d2-9c73-4f9f-e3d5-0f3e323a3033"
      },
      "outputs": [
        {
          "data": {
            "text/plain": [
              "638928"
            ]
          },
          "execution_count": 18,
          "metadata": {},
          "output_type": "execute_result"
        }
      ],
      "source": [
        "X_preprocessed.isnull().sum().sum()"
      ]
    },
    {
      "cell_type": "code",
      "execution_count": null,
      "metadata": {
        "id": "RMeevkVmjvSu"
      },
      "outputs": [],
      "source": [
        "Data_final_preprocessing = X_preprocessed.dropna(axis=0)"
      ]
    },
    {
      "cell_type": "code",
      "execution_count": null,
      "metadata": {
        "colab": {
          "base_uri": "https://localhost:8080/"
        },
        "id": "g6V8rHoLj0ZF",
        "outputId": "a2c50646-1657-4f2c-cbed-9cbf717c3c8f"
      },
      "outputs": [
        {
          "data": {
            "text/plain": [
              "0"
            ]
          },
          "execution_count": 20,
          "metadata": {},
          "output_type": "execute_result"
        }
      ],
      "source": [
        "Data_final_preprocessing.isnull().sum().sum()"
      ]
    },
    {
      "cell_type": "code",
      "execution_count": null,
      "metadata": {
        "colab": {
          "base_uri": "https://localhost:8080/",
          "height": 505
        },
        "id": "If_DhCFIkI0d",
        "outputId": "51275e17-7c60-4518-bbd0-17b9f3e040da"
      },
      "outputs": [
        {
          "data": {
            "text/html": [
              "\n",
              "  <div id=\"df-24e314b9-dd3e-4974-a50d-d96060cbdc39\">\n",
              "    <div class=\"colab-df-container\">\n",
              "      <div>\n",
              "<style scoped>\n",
              "    .dataframe tbody tr th:only-of-type {\n",
              "        vertical-align: middle;\n",
              "    }\n",
              "\n",
              "    .dataframe tbody tr th {\n",
              "        vertical-align: top;\n",
              "    }\n",
              "\n",
              "    .dataframe thead th {\n",
              "        text-align: right;\n",
              "    }\n",
              "</style>\n",
              "<table border=\"1\" class=\"dataframe\">\n",
              "  <thead>\n",
              "    <tr style=\"text-align: right;\">\n",
              "      <th></th>\n",
              "      <th>age</th>\n",
              "      <th>Kategori_umur_Dewasa</th>\n",
              "      <th>Kategori_umur_Muda</th>\n",
              "      <th>gender_F</th>\n",
              "      <th>gender_M</th>\n",
              "      <th>country_Australia</th>\n",
              "      <th>country_Austria</th>\n",
              "      <th>country_Belgium</th>\n",
              "      <th>country_Brasil</th>\n",
              "      <th>country_China</th>\n",
              "      <th>...</th>\n",
              "      <th>category_Skirts</th>\n",
              "      <th>category_Sleep &amp; Lounge</th>\n",
              "      <th>category_Socks</th>\n",
              "      <th>category_Socks &amp; Hosiery</th>\n",
              "      <th>category_Suits</th>\n",
              "      <th>category_Suits &amp; Sport Coats</th>\n",
              "      <th>category_Sweaters</th>\n",
              "      <th>category_Swim</th>\n",
              "      <th>category_Tops &amp; Tees</th>\n",
              "      <th>category_Underwear</th>\n",
              "    </tr>\n",
              "  </thead>\n",
              "  <tbody>\n",
              "    <tr>\n",
              "      <th>0</th>\n",
              "      <td>44.0</td>\n",
              "      <td>1.0</td>\n",
              "      <td>0.0</td>\n",
              "      <td>1.0</td>\n",
              "      <td>0.0</td>\n",
              "      <td>0.0</td>\n",
              "      <td>0.0</td>\n",
              "      <td>0.0</td>\n",
              "      <td>0.0</td>\n",
              "      <td>1.0</td>\n",
              "      <td>...</td>\n",
              "      <td>0.0</td>\n",
              "      <td>0.0</td>\n",
              "      <td>0.0</td>\n",
              "      <td>0.0</td>\n",
              "      <td>0.0</td>\n",
              "      <td>0.0</td>\n",
              "      <td>0.0</td>\n",
              "      <td>0.0</td>\n",
              "      <td>0.0</td>\n",
              "      <td>0.0</td>\n",
              "    </tr>\n",
              "    <tr>\n",
              "      <th>1</th>\n",
              "      <td>45.0</td>\n",
              "      <td>1.0</td>\n",
              "      <td>0.0</td>\n",
              "      <td>1.0</td>\n",
              "      <td>0.0</td>\n",
              "      <td>0.0</td>\n",
              "      <td>0.0</td>\n",
              "      <td>0.0</td>\n",
              "      <td>0.0</td>\n",
              "      <td>0.0</td>\n",
              "      <td>...</td>\n",
              "      <td>0.0</td>\n",
              "      <td>0.0</td>\n",
              "      <td>0.0</td>\n",
              "      <td>0.0</td>\n",
              "      <td>0.0</td>\n",
              "      <td>0.0</td>\n",
              "      <td>0.0</td>\n",
              "      <td>0.0</td>\n",
              "      <td>0.0</td>\n",
              "      <td>0.0</td>\n",
              "    </tr>\n",
              "    <tr>\n",
              "      <th>2</th>\n",
              "      <td>41.0</td>\n",
              "      <td>1.0</td>\n",
              "      <td>0.0</td>\n",
              "      <td>0.0</td>\n",
              "      <td>1.0</td>\n",
              "      <td>0.0</td>\n",
              "      <td>0.0</td>\n",
              "      <td>0.0</td>\n",
              "      <td>0.0</td>\n",
              "      <td>1.0</td>\n",
              "      <td>...</td>\n",
              "      <td>0.0</td>\n",
              "      <td>0.0</td>\n",
              "      <td>0.0</td>\n",
              "      <td>0.0</td>\n",
              "      <td>0.0</td>\n",
              "      <td>0.0</td>\n",
              "      <td>0.0</td>\n",
              "      <td>0.0</td>\n",
              "      <td>0.0</td>\n",
              "      <td>0.0</td>\n",
              "    </tr>\n",
              "    <tr>\n",
              "      <th>3</th>\n",
              "      <td>14.0</td>\n",
              "      <td>0.0</td>\n",
              "      <td>1.0</td>\n",
              "      <td>0.0</td>\n",
              "      <td>1.0</td>\n",
              "      <td>0.0</td>\n",
              "      <td>0.0</td>\n",
              "      <td>0.0</td>\n",
              "      <td>0.0</td>\n",
              "      <td>0.0</td>\n",
              "      <td>...</td>\n",
              "      <td>0.0</td>\n",
              "      <td>0.0</td>\n",
              "      <td>0.0</td>\n",
              "      <td>0.0</td>\n",
              "      <td>0.0</td>\n",
              "      <td>0.0</td>\n",
              "      <td>0.0</td>\n",
              "      <td>0.0</td>\n",
              "      <td>0.0</td>\n",
              "      <td>0.0</td>\n",
              "    </tr>\n",
              "    <tr>\n",
              "      <th>4</th>\n",
              "      <td>50.0</td>\n",
              "      <td>1.0</td>\n",
              "      <td>0.0</td>\n",
              "      <td>0.0</td>\n",
              "      <td>1.0</td>\n",
              "      <td>1.0</td>\n",
              "      <td>0.0</td>\n",
              "      <td>0.0</td>\n",
              "      <td>0.0</td>\n",
              "      <td>0.0</td>\n",
              "      <td>...</td>\n",
              "      <td>0.0</td>\n",
              "      <td>0.0</td>\n",
              "      <td>0.0</td>\n",
              "      <td>0.0</td>\n",
              "      <td>0.0</td>\n",
              "      <td>0.0</td>\n",
              "      <td>0.0</td>\n",
              "      <td>0.0</td>\n",
              "      <td>0.0</td>\n",
              "      <td>0.0</td>\n",
              "    </tr>\n",
              "    <tr>\n",
              "      <th>...</th>\n",
              "      <td>...</td>\n",
              "      <td>...</td>\n",
              "      <td>...</td>\n",
              "      <td>...</td>\n",
              "      <td>...</td>\n",
              "      <td>...</td>\n",
              "      <td>...</td>\n",
              "      <td>...</td>\n",
              "      <td>...</td>\n",
              "      <td>...</td>\n",
              "      <td>...</td>\n",
              "      <td>...</td>\n",
              "      <td>...</td>\n",
              "      <td>...</td>\n",
              "      <td>...</td>\n",
              "      <td>...</td>\n",
              "      <td>...</td>\n",
              "      <td>...</td>\n",
              "      <td>...</td>\n",
              "      <td>...</td>\n",
              "      <td>...</td>\n",
              "    </tr>\n",
              "    <tr>\n",
              "      <th>149893</th>\n",
              "      <td>58.0</td>\n",
              "      <td>0.0</td>\n",
              "      <td>1.0</td>\n",
              "      <td>1.0</td>\n",
              "      <td>0.0</td>\n",
              "      <td>0.0</td>\n",
              "      <td>0.0</td>\n",
              "      <td>1.0</td>\n",
              "      <td>0.0</td>\n",
              "      <td>0.0</td>\n",
              "      <td>...</td>\n",
              "      <td>0.0</td>\n",
              "      <td>0.0</td>\n",
              "      <td>0.0</td>\n",
              "      <td>0.0</td>\n",
              "      <td>0.0</td>\n",
              "      <td>0.0</td>\n",
              "      <td>0.0</td>\n",
              "      <td>0.0</td>\n",
              "      <td>1.0</td>\n",
              "      <td>0.0</td>\n",
              "    </tr>\n",
              "    <tr>\n",
              "      <th>149894</th>\n",
              "      <td>15.0</td>\n",
              "      <td>1.0</td>\n",
              "      <td>0.0</td>\n",
              "      <td>1.0</td>\n",
              "      <td>0.0</td>\n",
              "      <td>0.0</td>\n",
              "      <td>0.0</td>\n",
              "      <td>0.0</td>\n",
              "      <td>0.0</td>\n",
              "      <td>1.0</td>\n",
              "      <td>...</td>\n",
              "      <td>0.0</td>\n",
              "      <td>0.0</td>\n",
              "      <td>0.0</td>\n",
              "      <td>0.0</td>\n",
              "      <td>0.0</td>\n",
              "      <td>0.0</td>\n",
              "      <td>0.0</td>\n",
              "      <td>0.0</td>\n",
              "      <td>0.0</td>\n",
              "      <td>0.0</td>\n",
              "    </tr>\n",
              "    <tr>\n",
              "      <th>149895</th>\n",
              "      <td>12.0</td>\n",
              "      <td>1.0</td>\n",
              "      <td>0.0</td>\n",
              "      <td>1.0</td>\n",
              "      <td>0.0</td>\n",
              "      <td>0.0</td>\n",
              "      <td>0.0</td>\n",
              "      <td>0.0</td>\n",
              "      <td>0.0</td>\n",
              "      <td>0.0</td>\n",
              "      <td>...</td>\n",
              "      <td>0.0</td>\n",
              "      <td>0.0</td>\n",
              "      <td>0.0</td>\n",
              "      <td>0.0</td>\n",
              "      <td>0.0</td>\n",
              "      <td>0.0</td>\n",
              "      <td>0.0</td>\n",
              "      <td>0.0</td>\n",
              "      <td>1.0</td>\n",
              "      <td>0.0</td>\n",
              "    </tr>\n",
              "    <tr>\n",
              "      <th>149896</th>\n",
              "      <td>15.0</td>\n",
              "      <td>1.0</td>\n",
              "      <td>0.0</td>\n",
              "      <td>1.0</td>\n",
              "      <td>0.0</td>\n",
              "      <td>1.0</td>\n",
              "      <td>0.0</td>\n",
              "      <td>0.0</td>\n",
              "      <td>0.0</td>\n",
              "      <td>0.0</td>\n",
              "      <td>...</td>\n",
              "      <td>0.0</td>\n",
              "      <td>0.0</td>\n",
              "      <td>0.0</td>\n",
              "      <td>0.0</td>\n",
              "      <td>0.0</td>\n",
              "      <td>0.0</td>\n",
              "      <td>0.0</td>\n",
              "      <td>0.0</td>\n",
              "      <td>1.0</td>\n",
              "      <td>0.0</td>\n",
              "    </tr>\n",
              "    <tr>\n",
              "      <th>149897</th>\n",
              "      <td>43.0</td>\n",
              "      <td>1.0</td>\n",
              "      <td>0.0</td>\n",
              "      <td>1.0</td>\n",
              "      <td>0.0</td>\n",
              "      <td>0.0</td>\n",
              "      <td>0.0</td>\n",
              "      <td>0.0</td>\n",
              "      <td>0.0</td>\n",
              "      <td>0.0</td>\n",
              "      <td>...</td>\n",
              "      <td>0.0</td>\n",
              "      <td>0.0</td>\n",
              "      <td>0.0</td>\n",
              "      <td>0.0</td>\n",
              "      <td>0.0</td>\n",
              "      <td>0.0</td>\n",
              "      <td>0.0</td>\n",
              "      <td>0.0</td>\n",
              "      <td>0.0</td>\n",
              "      <td>0.0</td>\n",
              "    </tr>\n",
              "  </tbody>\n",
              "</table>\n",
              "<p>137370 rows × 51 columns</p>\n",
              "</div>\n",
              "      <button class=\"colab-df-convert\" onclick=\"convertToInteractive('df-24e314b9-dd3e-4974-a50d-d96060cbdc39')\"\n",
              "              title=\"Convert this dataframe to an interactive table.\"\n",
              "              style=\"display:none;\">\n",
              "        \n",
              "  <svg xmlns=\"http://www.w3.org/2000/svg\" height=\"24px\"viewBox=\"0 0 24 24\"\n",
              "       width=\"24px\">\n",
              "    <path d=\"M0 0h24v24H0V0z\" fill=\"none\"/>\n",
              "    <path d=\"M18.56 5.44l.94 2.06.94-2.06 2.06-.94-2.06-.94-.94-2.06-.94 2.06-2.06.94zm-11 1L8.5 8.5l.94-2.06 2.06-.94-2.06-.94L8.5 2.5l-.94 2.06-2.06.94zm10 10l.94 2.06.94-2.06 2.06-.94-2.06-.94-.94-2.06-.94 2.06-2.06.94z\"/><path d=\"M17.41 7.96l-1.37-1.37c-.4-.4-.92-.59-1.43-.59-.52 0-1.04.2-1.43.59L10.3 9.45l-7.72 7.72c-.78.78-.78 2.05 0 2.83L4 21.41c.39.39.9.59 1.41.59.51 0 1.02-.2 1.41-.59l7.78-7.78 2.81-2.81c.8-.78.8-2.07 0-2.86zM5.41 20L4 18.59l7.72-7.72 1.47 1.35L5.41 20z\"/>\n",
              "  </svg>\n",
              "      </button>\n",
              "      \n",
              "  <style>\n",
              "    .colab-df-container {\n",
              "      display:flex;\n",
              "      flex-wrap:wrap;\n",
              "      gap: 12px;\n",
              "    }\n",
              "\n",
              "    .colab-df-convert {\n",
              "      background-color: #E8F0FE;\n",
              "      border: none;\n",
              "      border-radius: 50%;\n",
              "      cursor: pointer;\n",
              "      display: none;\n",
              "      fill: #1967D2;\n",
              "      height: 32px;\n",
              "      padding: 0 0 0 0;\n",
              "      width: 32px;\n",
              "    }\n",
              "\n",
              "    .colab-df-convert:hover {\n",
              "      background-color: #E2EBFA;\n",
              "      box-shadow: 0px 1px 2px rgba(60, 64, 67, 0.3), 0px 1px 3px 1px rgba(60, 64, 67, 0.15);\n",
              "      fill: #174EA6;\n",
              "    }\n",
              "\n",
              "    [theme=dark] .colab-df-convert {\n",
              "      background-color: #3B4455;\n",
              "      fill: #D2E3FC;\n",
              "    }\n",
              "\n",
              "    [theme=dark] .colab-df-convert:hover {\n",
              "      background-color: #434B5C;\n",
              "      box-shadow: 0px 1px 3px 1px rgba(0, 0, 0, 0.15);\n",
              "      filter: drop-shadow(0px 1px 2px rgba(0, 0, 0, 0.3));\n",
              "      fill: #FFFFFF;\n",
              "    }\n",
              "  </style>\n",
              "\n",
              "      <script>\n",
              "        const buttonEl =\n",
              "          document.querySelector('#df-24e314b9-dd3e-4974-a50d-d96060cbdc39 button.colab-df-convert');\n",
              "        buttonEl.style.display =\n",
              "          google.colab.kernel.accessAllowed ? 'block' : 'none';\n",
              "\n",
              "        async function convertToInteractive(key) {\n",
              "          const element = document.querySelector('#df-24e314b9-dd3e-4974-a50d-d96060cbdc39');\n",
              "          const dataTable =\n",
              "            await google.colab.kernel.invokeFunction('convertToInteractive',\n",
              "                                                     [key], {});\n",
              "          if (!dataTable) return;\n",
              "\n",
              "          const docLinkHtml = 'Like what you see? Visit the ' +\n",
              "            '<a target=\"_blank\" href=https://colab.research.google.com/notebooks/data_table.ipynb>data table notebook</a>'\n",
              "            + ' to learn more about interactive tables.';\n",
              "          element.innerHTML = '';\n",
              "          dataTable['output_type'] = 'display_data';\n",
              "          await google.colab.output.renderOutput(dataTable, element);\n",
              "          const docLink = document.createElement('div');\n",
              "          docLink.innerHTML = docLinkHtml;\n",
              "          element.appendChild(docLink);\n",
              "        }\n",
              "      </script>\n",
              "    </div>\n",
              "  </div>\n",
              "  "
            ],
            "text/plain": [
              "         age  Kategori_umur_Dewasa  Kategori_umur_Muda  gender_F  gender_M  \\\n",
              "0       44.0                   1.0                 0.0       1.0       0.0   \n",
              "1       45.0                   1.0                 0.0       1.0       0.0   \n",
              "2       41.0                   1.0                 0.0       0.0       1.0   \n",
              "3       14.0                   0.0                 1.0       0.0       1.0   \n",
              "4       50.0                   1.0                 0.0       0.0       1.0   \n",
              "...      ...                   ...                 ...       ...       ...   \n",
              "149893  58.0                   0.0                 1.0       1.0       0.0   \n",
              "149894  15.0                   1.0                 0.0       1.0       0.0   \n",
              "149895  12.0                   1.0                 0.0       1.0       0.0   \n",
              "149896  15.0                   1.0                 0.0       1.0       0.0   \n",
              "149897  43.0                   1.0                 0.0       1.0       0.0   \n",
              "\n",
              "        country_Australia  country_Austria  country_Belgium  country_Brasil  \\\n",
              "0                     0.0              0.0              0.0             0.0   \n",
              "1                     0.0              0.0              0.0             0.0   \n",
              "2                     0.0              0.0              0.0             0.0   \n",
              "3                     0.0              0.0              0.0             0.0   \n",
              "4                     1.0              0.0              0.0             0.0   \n",
              "...                   ...              ...              ...             ...   \n",
              "149893                0.0              0.0              1.0             0.0   \n",
              "149894                0.0              0.0              0.0             0.0   \n",
              "149895                0.0              0.0              0.0             0.0   \n",
              "149896                1.0              0.0              0.0             0.0   \n",
              "149897                0.0              0.0              0.0             0.0   \n",
              "\n",
              "        country_China  ...  category_Skirts  category_Sleep & Lounge  \\\n",
              "0                 1.0  ...              0.0                      0.0   \n",
              "1                 0.0  ...              0.0                      0.0   \n",
              "2                 1.0  ...              0.0                      0.0   \n",
              "3                 0.0  ...              0.0                      0.0   \n",
              "4                 0.0  ...              0.0                      0.0   \n",
              "...               ...  ...              ...                      ...   \n",
              "149893            0.0  ...              0.0                      0.0   \n",
              "149894            1.0  ...              0.0                      0.0   \n",
              "149895            0.0  ...              0.0                      0.0   \n",
              "149896            0.0  ...              0.0                      0.0   \n",
              "149897            0.0  ...              0.0                      0.0   \n",
              "\n",
              "        category_Socks  category_Socks & Hosiery  category_Suits  \\\n",
              "0                  0.0                       0.0             0.0   \n",
              "1                  0.0                       0.0             0.0   \n",
              "2                  0.0                       0.0             0.0   \n",
              "3                  0.0                       0.0             0.0   \n",
              "4                  0.0                       0.0             0.0   \n",
              "...                ...                       ...             ...   \n",
              "149893             0.0                       0.0             0.0   \n",
              "149894             0.0                       0.0             0.0   \n",
              "149895             0.0                       0.0             0.0   \n",
              "149896             0.0                       0.0             0.0   \n",
              "149897             0.0                       0.0             0.0   \n",
              "\n",
              "        category_Suits & Sport Coats  category_Sweaters  category_Swim  \\\n",
              "0                                0.0                0.0            0.0   \n",
              "1                                0.0                0.0            0.0   \n",
              "2                                0.0                0.0            0.0   \n",
              "3                                0.0                0.0            0.0   \n",
              "4                                0.0                0.0            0.0   \n",
              "...                              ...                ...            ...   \n",
              "149893                           0.0                0.0            0.0   \n",
              "149894                           0.0                0.0            0.0   \n",
              "149895                           0.0                0.0            0.0   \n",
              "149896                           0.0                0.0            0.0   \n",
              "149897                           0.0                0.0            0.0   \n",
              "\n",
              "        category_Tops & Tees  category_Underwear  \n",
              "0                        0.0                 0.0  \n",
              "1                        0.0                 0.0  \n",
              "2                        0.0                 0.0  \n",
              "3                        0.0                 0.0  \n",
              "4                        0.0                 0.0  \n",
              "...                      ...                 ...  \n",
              "149893                   1.0                 0.0  \n",
              "149894                   0.0                 0.0  \n",
              "149895                   1.0                 0.0  \n",
              "149896                   1.0                 0.0  \n",
              "149897                   0.0                 0.0  \n",
              "\n",
              "[137370 rows x 51 columns]"
            ]
          },
          "execution_count": 21,
          "metadata": {},
          "output_type": "execute_result"
        }
      ],
      "source": [
        "Data_final_preprocessing"
      ]
    },
    {
      "cell_type": "markdown",
      "metadata": {
        "id": "0v_tQdJpSMZU"
      },
      "source": [
        "## Visualization"
      ]
    },
    {
      "cell_type": "markdown",
      "metadata": {
        "id": "YOw4C2SZgyVH"
      },
      "source": [
        "### Visualisasi jumlah user baru per tahun "
      ]
    },
    {
      "cell_type": "code",
      "execution_count": null,
      "metadata": {
        "colab": {
          "base_uri": "https://localhost:8080/",
          "height": 513
        },
        "id": "2IgNNg_gSMZU",
        "outputId": "a18899e4-8be5-421b-c225-637efacdc1c6"
      },
      "outputs": [
        {
          "data": {
            "image/png": "[encoded data removed]",
            "text/plain": [
              "<Figure size 1080x576 with 1 Axes>"
            ]
          },
          "metadata": {
            "needs_background": "light"
          },
          "output_type": "display_data"
        }
      ],
      "source": [
        "data['tahun'] = data['created_at'].dt.year\n",
        "jumlah = data[['tahun', 'age']]\n",
        "jumlah_pengguna = jumlah.groupby(['tahun']).count().reset_index()\n",
        "jumlah_pengguna\n",
        "\n",
        "plt.figure(figsize=(15,8)) \n",
        "plt.grid()\n",
        "sns.lineplot(x=jumlah_pengguna['tahun'],y=jumlah_pengguna['age'],label='Jumlah User')\n",
        "plt.xlabel('Tahun')\n",
        "plt.ylabel('Jumlah User')\n",
        "plt.title('Tren User')\n",
        "plt.show()"
      ]
    },
    {
      "cell_type": "code",
      "execution_count": null,
      "metadata": {
        "id": "dm0keBR_SMZV"
      },
      "outputs": [],
      "source": [
        "def visualisasi(data, x=None, y=None, palette=None, figsize=(20, 6), **kwargs):\n",
        "    column_order = data[x or y].value_counts().index\n",
        "\n",
        "    plt.figure(figsize=figsize)\n",
        "    sns.countplot(\n",
        "        x=x, y=y, data=data, order=column_order,\n",
        "        palette=palette, **kwargs\n",
        "    )\n",
        "    plt.grid(False)"
      ]
    },
    {
      "cell_type": "markdown",
      "metadata": {
        "id": "U3amzgj5TZPv"
      },
      "source": [
        "### Jumlah user pada setiap umur"
      ]
    },
    {
      "cell_type": "code",
      "execution_count": null,
      "metadata": {
        "colab": {
          "base_uri": "https://localhost:8080/",
          "height": 368
        },
        "id": "OVLruZXBSMZV",
        "outputId": "5f124204-0b5b-4eb3-ecc7-5c96af21bc35"
      },
      "outputs": [
        {
          "data": {
            "image/png": "[encoded data removed]",
            "text/plain": [
              "<Figure size 1440x432 with 1 Axes>"
            ]
          },
          "metadata": {
            "needs_background": "light"
          },
          "output_type": "display_data"
        }
      ],
      "source": [
        "visualisasi(data=data ,x='age', hue='Kategori_umur')\n"
      ]
    },
    {
      "cell_type": "code",
      "execution_count": null,
      "metadata": {
        "colab": {
          "base_uri": "https://localhost:8080/",
          "height": 367
        },
        "id": "XcJwaUB0SMZV",
        "outputId": "f4eba4d7-4480-4c0e-c7e6-45d2118c4bdb"
      },
      "outputs": [
        {
          "data": {
            "image/png": "[encoded data removed]",
            "text/plain": [
              "<Figure size 1440x432 with 1 Axes>"
            ]
          },
          "metadata": {
            "needs_background": "light"
          },
          "output_type": "display_data"
        }
      ],
      "source": [
        "visualisasi(data=data, x='traffic_source', hue='Kategori_umur')"
      ]
    },
    {
      "cell_type": "markdown",
      "metadata": {
        "id": "CmkFbybLTze2"
      },
      "source": [
        "### Jumlah user yang memesan berdasarkan Category"
      ]
    },
    {
      "cell_type": "code",
      "execution_count": null,
      "metadata": {
        "colab": {
          "base_uri": "https://localhost:8080/",
          "height": 334
        },
        "id": "cQjNAyFjSMZW",
        "outputId": "39a22afd-5ad4-4339-97cc-7c1593d944ea"
      },
      "outputs": [
        {
          "data": {
            "image/png": "[encoded data removed]",
            "text/plain": [
              "<Figure size 1440x432 with 1 Axes>"
            ]
          },
          "metadata": {
            "needs_background": "light"
          },
          "output_type": "display_data"
        }
      ],
      "source": [
        "visualisasi(data=data, y='category', hue='Kategori_umur')"
      ]
    },
    {
      "cell_type": "markdown",
      "metadata": {
        "id": "XQ5xyLKnUh32"
      },
      "source": [
        "### Jumlah user berdasarkan Negara"
      ]
    },
    {
      "cell_type": "code",
      "execution_count": null,
      "metadata": {
        "colab": {
          "base_uri": "https://localhost:8080/",
          "height": 366
        },
        "id": "kDIFuq2KSMZW",
        "outputId": "41c35540-f7ae-4094-a9ae-28906c40207a"
      },
      "outputs": [
        {
          "data": {
            "image/png": "[encoded data removed]",
            "text/plain": [
              "<Figure size 1440x432 with 1 Axes>"
            ]
          },
          "metadata": {
            "needs_background": "light"
          },
          "output_type": "display_data"
        }
      ],
      "source": [
        "visualisasi(data=data, x='country', hue='Kategori_umur')"
      ]
    },
    {
      "cell_type": "code",
      "execution_count": null,
      "metadata": {
        "colab": {
          "base_uri": "https://localhost:8080/",
          "height": 1000
        },
        "id": "6NO_UoZocnmK",
        "outputId": "c4ed17fe-1837-4bbe-e2a5-f659a46cc451"
      },
      "outputs": [
        {
          "data": {
            "text/plain": [
              "<matplotlib.axes._subplots.AxesSubplot at 0x7fabbfc09e50>"
            ]
          },
          "execution_count": 28,
          "metadata": {},
          "output_type": "execute_result"
        },
        {
          "data": {
            "image/png": "[encoded data removed]",
            "text/plain": [
              "<Figure size 1080x1440 with 1 Axes>"
            ]
          },
          "metadata": {
            "needs_background": "light"
          },
          "output_type": "display_data"
        }
      ],
      "source": [
        "plt.figure(figsize = (15,20))\n",
        "sns.boxplot(data = data, x='age', y='category')"
      ]
    },
    {
      "cell_type": "markdown",
      "metadata": {
        "id": "GD8Cul_-VT8E"
      },
      "source": [
        "# Modelling"
      ]
    },
    {
      "cell_type": "markdown",
      "metadata": {
        "id": "g4COyxUBaLvk"
      },
      "source": [
        "Checkpoint 4 akan dilaksanakan pada Selasa dan Rabu tanggal 21-22 Juni. Berikut aspek penilaian untuk Cp4\n",
        "\n",
        "1. Mampu menentukan analisis/model yg akan digunakan\n",
        "2. Mampu menentukan variabel dependent, independent dan data split (train, test, validation)\n",
        "3. Mampu memasukkan data ke dalam model dan mengeluarkan metrics dari model yg relevan (contoh: accuracy score, RMSE, f1, precision/recall, dll)\n",
        "4. Menginterpretasikan hasil model, bisa dalam bentuk visual\n",
        "\n",
        "notes sebelum mulai cp4:\n",
        "1. Bagi yang belum sempat/tidak hadir dalam cp3 waktu lalu mohon segera melengkapi pekerjaannya dan menunjukkan kepada instruktur melalui dm discord"
      ]
    },
    {
      "cell_type": "code",
      "execution_count": null,
      "metadata": {
        "colab": {
          "base_uri": "https://localhost:8080/",
          "height": 505
        },
        "id": "oGylZADGbvLZ",
        "outputId": "4054217b-bc34-4f4c-d81b-f584fd3fcb43"
      },
      "outputs": [
        {
          "data": {
            "text/html": [
              "\n",
              "  <div id=\"df-0b0183b3-c9af-472a-877f-5f68d7b9d4bd\">\n",
              "    <div class=\"colab-df-container\">\n",
              "      <div>\n",
              "<style scoped>\n",
              "    .dataframe tbody tr th:only-of-type {\n",
              "        vertical-align: middle;\n",
              "    }\n",
              "\n",
              "    .dataframe tbody tr th {\n",
              "        vertical-align: top;\n",
              "    }\n",
              "\n",
              "    .dataframe thead th {\n",
              "        text-align: right;\n",
              "    }\n",
              "</style>\n",
              "<table border=\"1\" class=\"dataframe\">\n",
              "  <thead>\n",
              "    <tr style=\"text-align: right;\">\n",
              "      <th></th>\n",
              "      <th>age</th>\n",
              "      <th>Kategori_umur_Dewasa</th>\n",
              "      <th>Kategori_umur_Muda</th>\n",
              "      <th>gender_F</th>\n",
              "      <th>gender_M</th>\n",
              "      <th>country_Australia</th>\n",
              "      <th>country_Austria</th>\n",
              "      <th>country_Belgium</th>\n",
              "      <th>country_Brasil</th>\n",
              "      <th>country_China</th>\n",
              "      <th>...</th>\n",
              "      <th>category_Skirts</th>\n",
              "      <th>category_Sleep &amp; Lounge</th>\n",
              "      <th>category_Socks</th>\n",
              "      <th>category_Socks &amp; Hosiery</th>\n",
              "      <th>category_Suits</th>\n",
              "      <th>category_Suits &amp; Sport Coats</th>\n",
              "      <th>category_Sweaters</th>\n",
              "      <th>category_Swim</th>\n",
              "      <th>category_Tops &amp; Tees</th>\n",
              "      <th>category_Underwear</th>\n",
              "    </tr>\n",
              "  </thead>\n",
              "  <tbody>\n",
              "    <tr>\n",
              "      <th>0</th>\n",
              "      <td>44.0</td>\n",
              "      <td>1.0</td>\n",
              "      <td>0.0</td>\n",
              "      <td>1.0</td>\n",
              "      <td>0.0</td>\n",
              "      <td>0.0</td>\n",
              "      <td>0.0</td>\n",
              "      <td>0.0</td>\n",
              "      <td>0.0</td>\n",
              "      <td>1.0</td>\n",
              "      <td>...</td>\n",
              "      <td>0.0</td>\n",
              "      <td>0.0</td>\n",
              "      <td>0.0</td>\n",
              "      <td>0.0</td>\n",
              "      <td>0.0</td>\n",
              "      <td>0.0</td>\n",
              "      <td>0.0</td>\n",
              "      <td>0.0</td>\n",
              "      <td>0.0</td>\n",
              "      <td>0.0</td>\n",
              "    </tr>\n",
              "    <tr>\n",
              "      <th>1</th>\n",
              "      <td>45.0</td>\n",
              "      <td>1.0</td>\n",
              "      <td>0.0</td>\n",
              "      <td>1.0</td>\n",
              "      <td>0.0</td>\n",
              "      <td>0.0</td>\n",
              "      <td>0.0</td>\n",
              "      <td>0.0</td>\n",
              "      <td>0.0</td>\n",
              "      <td>0.0</td>\n",
              "      <td>...</td>\n",
              "      <td>0.0</td>\n",
              "      <td>0.0</td>\n",
              "      <td>0.0</td>\n",
              "      <td>0.0</td>\n",
              "      <td>0.0</td>\n",
              "      <td>0.0</td>\n",
              "      <td>0.0</td>\n",
              "      <td>0.0</td>\n",
              "      <td>0.0</td>\n",
              "      <td>0.0</td>\n",
              "    </tr>\n",
              "    <tr>\n",
              "      <th>2</th>\n",
              "      <td>41.0</td>\n",
              "      <td>1.0</td>\n",
              "      <td>0.0</td>\n",
              "      <td>0.0</td>\n",
              "      <td>1.0</td>\n",
              "      <td>0.0</td>\n",
              "      <td>0.0</td>\n",
              "      <td>0.0</td>\n",
              "      <td>0.0</td>\n",
              "      <td>1.0</td>\n",
              "      <td>...</td>\n",
              "      <td>0.0</td>\n",
              "      <td>0.0</td>\n",
              "      <td>0.0</td>\n",
              "      <td>0.0</td>\n",
              "      <td>0.0</td>\n",
              "      <td>0.0</td>\n",
              "      <td>0.0</td>\n",
              "      <td>0.0</td>\n",
              "      <td>0.0</td>\n",
              "      <td>0.0</td>\n",
              "    </tr>\n",
              "    <tr>\n",
              "      <th>3</th>\n",
              "      <td>14.0</td>\n",
              "      <td>0.0</td>\n",
              "      <td>1.0</td>\n",
              "      <td>0.0</td>\n",
              "      <td>1.0</td>\n",
              "      <td>0.0</td>\n",
              "      <td>0.0</td>\n",
              "      <td>0.0</td>\n",
              "      <td>0.0</td>\n",
              "      <td>0.0</td>\n",
              "      <td>...</td>\n",
              "      <td>0.0</td>\n",
              "      <td>0.0</td>\n",
              "      <td>0.0</td>\n",
              "      <td>0.0</td>\n",
              "      <td>0.0</td>\n",
              "      <td>0.0</td>\n",
              "      <td>0.0</td>\n",
              "      <td>0.0</td>\n",
              "      <td>0.0</td>\n",
              "      <td>0.0</td>\n",
              "    </tr>\n",
              "    <tr>\n",
              "      <th>4</th>\n",
              "      <td>50.0</td>\n",
              "      <td>1.0</td>\n",
              "      <td>0.0</td>\n",
              "      <td>0.0</td>\n",
              "      <td>1.0</td>\n",
              "      <td>1.0</td>\n",
              "      <td>0.0</td>\n",
              "      <td>0.0</td>\n",
              "      <td>0.0</td>\n",
              "      <td>0.0</td>\n",
              "      <td>...</td>\n",
              "      <td>0.0</td>\n",
              "      <td>0.0</td>\n",
              "      <td>0.0</td>\n",
              "      <td>0.0</td>\n",
              "      <td>0.0</td>\n",
              "      <td>0.0</td>\n",
              "      <td>0.0</td>\n",
              "      <td>0.0</td>\n",
              "      <td>0.0</td>\n",
              "      <td>0.0</td>\n",
              "    </tr>\n",
              "    <tr>\n",
              "      <th>...</th>\n",
              "      <td>...</td>\n",
              "      <td>...</td>\n",
              "      <td>...</td>\n",
              "      <td>...</td>\n",
              "      <td>...</td>\n",
              "      <td>...</td>\n",
              "      <td>...</td>\n",
              "      <td>...</td>\n",
              "      <td>...</td>\n",
              "      <td>...</td>\n",
              "      <td>...</td>\n",
              "      <td>...</td>\n",
              "      <td>...</td>\n",
              "      <td>...</td>\n",
              "      <td>...</td>\n",
              "      <td>...</td>\n",
              "      <td>...</td>\n",
              "      <td>...</td>\n",
              "      <td>...</td>\n",
              "      <td>...</td>\n",
              "      <td>...</td>\n",
              "    </tr>\n",
              "    <tr>\n",
              "      <th>149893</th>\n",
              "      <td>58.0</td>\n",
              "      <td>0.0</td>\n",
              "      <td>1.0</td>\n",
              "      <td>1.0</td>\n",
              "      <td>0.0</td>\n",
              "      <td>0.0</td>\n",
              "      <td>0.0</td>\n",
              "      <td>1.0</td>\n",
              "      <td>0.0</td>\n",
              "      <td>0.0</td>\n",
              "      <td>...</td>\n",
              "      <td>0.0</td>\n",
              "      <td>0.0</td>\n",
              "      <td>0.0</td>\n",
              "      <td>0.0</td>\n",
              "      <td>0.0</td>\n",
              "      <td>0.0</td>\n",
              "      <td>0.0</td>\n",
              "      <td>0.0</td>\n",
              "      <td>1.0</td>\n",
              "      <td>0.0</td>\n",
              "    </tr>\n",
              "    <tr>\n",
              "      <th>149894</th>\n",
              "      <td>15.0</td>\n",
              "      <td>1.0</td>\n",
              "      <td>0.0</td>\n",
              "      <td>1.0</td>\n",
              "      <td>0.0</td>\n",
              "      <td>0.0</td>\n",
              "      <td>0.0</td>\n",
              "      <td>0.0</td>\n",
              "      <td>0.0</td>\n",
              "      <td>1.0</td>\n",
              "      <td>...</td>\n",
              "      <td>0.0</td>\n",
              "      <td>0.0</td>\n",
              "      <td>0.0</td>\n",
              "      <td>0.0</td>\n",
              "      <td>0.0</td>\n",
              "      <td>0.0</td>\n",
              "      <td>0.0</td>\n",
              "      <td>0.0</td>\n",
              "      <td>0.0</td>\n",
              "      <td>0.0</td>\n",
              "    </tr>\n",
              "    <tr>\n",
              "      <th>149895</th>\n",
              "      <td>12.0</td>\n",
              "      <td>1.0</td>\n",
              "      <td>0.0</td>\n",
              "      <td>1.0</td>\n",
              "      <td>0.0</td>\n",
              "      <td>0.0</td>\n",
              "      <td>0.0</td>\n",
              "      <td>0.0</td>\n",
              "      <td>0.0</td>\n",
              "      <td>0.0</td>\n",
              "      <td>...</td>\n",
              "      <td>0.0</td>\n",
              "      <td>0.0</td>\n",
              "      <td>0.0</td>\n",
              "      <td>0.0</td>\n",
              "      <td>0.0</td>\n",
              "      <td>0.0</td>\n",
              "      <td>0.0</td>\n",
              "      <td>0.0</td>\n",
              "      <td>1.0</td>\n",
              "      <td>0.0</td>\n",
              "    </tr>\n",
              "    <tr>\n",
              "      <th>149896</th>\n",
              "      <td>15.0</td>\n",
              "      <td>1.0</td>\n",
              "      <td>0.0</td>\n",
              "      <td>1.0</td>\n",
              "      <td>0.0</td>\n",
              "      <td>1.0</td>\n",
              "      <td>0.0</td>\n",
              "      <td>0.0</td>\n",
              "      <td>0.0</td>\n",
              "      <td>0.0</td>\n",
              "      <td>...</td>\n",
              "      <td>0.0</td>\n",
              "      <td>0.0</td>\n",
              "      <td>0.0</td>\n",
              "      <td>0.0</td>\n",
              "      <td>0.0</td>\n",
              "      <td>0.0</td>\n",
              "      <td>0.0</td>\n",
              "      <td>0.0</td>\n",
              "      <td>1.0</td>\n",
              "      <td>0.0</td>\n",
              "    </tr>\n",
              "    <tr>\n",
              "      <th>149897</th>\n",
              "      <td>43.0</td>\n",
              "      <td>1.0</td>\n",
              "      <td>0.0</td>\n",
              "      <td>1.0</td>\n",
              "      <td>0.0</td>\n",
              "      <td>0.0</td>\n",
              "      <td>0.0</td>\n",
              "      <td>0.0</td>\n",
              "      <td>0.0</td>\n",
              "      <td>0.0</td>\n",
              "      <td>...</td>\n",
              "      <td>0.0</td>\n",
              "      <td>0.0</td>\n",
              "      <td>0.0</td>\n",
              "      <td>0.0</td>\n",
              "      <td>0.0</td>\n",
              "      <td>0.0</td>\n",
              "      <td>0.0</td>\n",
              "      <td>0.0</td>\n",
              "      <td>0.0</td>\n",
              "      <td>0.0</td>\n",
              "    </tr>\n",
              "  </tbody>\n",
              "</table>\n",
              "<p>137370 rows × 51 columns</p>\n",
              "</div>\n",
              "      <button class=\"colab-df-convert\" onclick=\"convertToInteractive('df-0b0183b3-c9af-472a-877f-5f68d7b9d4bd')\"\n",
              "              title=\"Convert this dataframe to an interactive table.\"\n",
              "              style=\"display:none;\">\n",
              "        \n",
              "  <svg xmlns=\"http://www.w3.org/2000/svg\" height=\"24px\"viewBox=\"0 0 24 24\"\n",
              "       width=\"24px\">\n",
              "    <path d=\"M0 0h24v24H0V0z\" fill=\"none\"/>\n",
              "    <path d=\"M18.56 5.44l.94 2.06.94-2.06 2.06-.94-2.06-.94-.94-2.06-.94 2.06-2.06.94zm-11 1L8.5 8.5l.94-2.06 2.06-.94-2.06-.94L8.5 2.5l-.94 2.06-2.06.94zm10 10l.94 2.06.94-2.06 2.06-.94-2.06-.94-.94-2.06-.94 2.06-2.06.94z\"/><path d=\"M17.41 7.96l-1.37-1.37c-.4-.4-.92-.59-1.43-.59-.52 0-1.04.2-1.43.59L10.3 9.45l-7.72 7.72c-.78.78-.78 2.05 0 2.83L4 21.41c.39.39.9.59 1.41.59.51 0 1.02-.2 1.41-.59l7.78-7.78 2.81-2.81c.8-.78.8-2.07 0-2.86zM5.41 20L4 18.59l7.72-7.72 1.47 1.35L5.41 20z\"/>\n",
              "  </svg>\n",
              "      </button>\n",
              "      \n",
              "  <style>\n",
              "    .colab-df-container {\n",
              "      display:flex;\n",
              "      flex-wrap:wrap;\n",
              "      gap: 12px;\n",
              "    }\n",
              "\n",
              "    .colab-df-convert {\n",
              "      background-color: #E8F0FE;\n",
              "      border: none;\n",
              "      border-radius: 50%;\n",
              "      cursor: pointer;\n",
              "      display: none;\n",
              "      fill: #1967D2;\n",
              "      height: 32px;\n",
              "      padding: 0 0 0 0;\n",
              "      width: 32px;\n",
              "    }\n",
              "\n",
              "    .colab-df-convert:hover {\n",
              "      background-color: #E2EBFA;\n",
              "      box-shadow: 0px 1px 2px rgba(60, 64, 67, 0.3), 0px 1px 3px 1px rgba(60, 64, 67, 0.15);\n",
              "      fill: #174EA6;\n",
              "    }\n",
              "\n",
              "    [theme=dark] .colab-df-convert {\n",
              "      background-color: #3B4455;\n",
              "      fill: #D2E3FC;\n",
              "    }\n",
              "\n",
              "    [theme=dark] .colab-df-convert:hover {\n",
              "      background-color: #434B5C;\n",
              "      box-shadow: 0px 1px 3px 1px rgba(0, 0, 0, 0.15);\n",
              "      filter: drop-shadow(0px 1px 2px rgba(0, 0, 0, 0.3));\n",
              "      fill: #FFFFFF;\n",
              "    }\n",
              "  </style>\n",
              "\n",
              "      <script>\n",
              "        const buttonEl =\n",
              "          document.querySelector('#df-0b0183b3-c9af-472a-877f-5f68d7b9d4bd button.colab-df-convert');\n",
              "        buttonEl.style.display =\n",
              "          google.colab.kernel.accessAllowed ? 'block' : 'none';\n",
              "\n",
              "        async function convertToInteractive(key) {\n",
              "          const element = document.querySelector('#df-0b0183b3-c9af-472a-877f-5f68d7b9d4bd');\n",
              "          const dataTable =\n",
              "            await google.colab.kernel.invokeFunction('convertToInteractive',\n",
              "                                                     [key], {});\n",
              "          if (!dataTable) return;\n",
              "\n",
              "          const docLinkHtml = 'Like what you see? Visit the ' +\n",
              "            '<a target=\"_blank\" href=https://colab.research.google.com/notebooks/data_table.ipynb>data table notebook</a>'\n",
              "            + ' to learn more about interactive tables.';\n",
              "          element.innerHTML = '';\n",
              "          dataTable['output_type'] = 'display_data';\n",
              "          await google.colab.output.renderOutput(dataTable, element);\n",
              "          const docLink = document.createElement('div');\n",
              "          docLink.innerHTML = docLinkHtml;\n",
              "          element.appendChild(docLink);\n",
              "        }\n",
              "      </script>\n",
              "    </div>\n",
              "  </div>\n",
              "  "
            ],
            "text/plain": [
              "         age  Kategori_umur_Dewasa  Kategori_umur_Muda  gender_F  gender_M  \\\n",
              "0       44.0                   1.0                 0.0       1.0       0.0   \n",
              "1       45.0                   1.0                 0.0       1.0       0.0   \n",
              "2       41.0                   1.0                 0.0       0.0       1.0   \n",
              "3       14.0                   0.0                 1.0       0.0       1.0   \n",
              "4       50.0                   1.0                 0.0       0.0       1.0   \n",
              "...      ...                   ...                 ...       ...       ...   \n",
              "149893  58.0                   0.0                 1.0       1.0       0.0   \n",
              "149894  15.0                   1.0                 0.0       1.0       0.0   \n",
              "149895  12.0                   1.0                 0.0       1.0       0.0   \n",
              "149896  15.0                   1.0                 0.0       1.0       0.0   \n",
              "149897  43.0                   1.0                 0.0       1.0       0.0   \n",
              "\n",
              "        country_Australia  country_Austria  country_Belgium  country_Brasil  \\\n",
              "0                     0.0              0.0              0.0             0.0   \n",
              "1                     0.0              0.0              0.0             0.0   \n",
              "2                     0.0              0.0              0.0             0.0   \n",
              "3                     0.0              0.0              0.0             0.0   \n",
              "4                     1.0              0.0              0.0             0.0   \n",
              "...                   ...              ...              ...             ...   \n",
              "149893                0.0              0.0              1.0             0.0   \n",
              "149894                0.0              0.0              0.0             0.0   \n",
              "149895                0.0              0.0              0.0             0.0   \n",
              "149896                1.0              0.0              0.0             0.0   \n",
              "149897                0.0              0.0              0.0             0.0   \n",
              "\n",
              "        country_China  ...  category_Skirts  category_Sleep & Lounge  \\\n",
              "0                 1.0  ...              0.0                      0.0   \n",
              "1                 0.0  ...              0.0                      0.0   \n",
              "2                 1.0  ...              0.0                      0.0   \n",
              "3                 0.0  ...              0.0                      0.0   \n",
              "4                 0.0  ...              0.0                      0.0   \n",
              "...               ...  ...              ...                      ...   \n",
              "149893            0.0  ...              0.0                      0.0   \n",
              "149894            1.0  ...              0.0                      0.0   \n",
              "149895            0.0  ...              0.0                      0.0   \n",
              "149896            0.0  ...              0.0                      0.0   \n",
              "149897            0.0  ...              0.0                      0.0   \n",
              "\n",
              "        category_Socks  category_Socks & Hosiery  category_Suits  \\\n",
              "0                  0.0                       0.0             0.0   \n",
              "1                  0.0                       0.0             0.0   \n",
              "2                  0.0                       0.0             0.0   \n",
              "3                  0.0                       0.0             0.0   \n",
              "4                  0.0                       0.0             0.0   \n",
              "...                ...                       ...             ...   \n",
              "149893             0.0                       0.0             0.0   \n",
              "149894             0.0                       0.0             0.0   \n",
              "149895             0.0                       0.0             0.0   \n",
              "149896             0.0                       0.0             0.0   \n",
              "149897             0.0                       0.0             0.0   \n",
              "\n",
              "        category_Suits & Sport Coats  category_Sweaters  category_Swim  \\\n",
              "0                                0.0                0.0            0.0   \n",
              "1                                0.0                0.0            0.0   \n",
              "2                                0.0                0.0            0.0   \n",
              "3                                0.0                0.0            0.0   \n",
              "4                                0.0                0.0            0.0   \n",
              "...                              ...                ...            ...   \n",
              "149893                           0.0                0.0            0.0   \n",
              "149894                           0.0                0.0            0.0   \n",
              "149895                           0.0                0.0            0.0   \n",
              "149896                           0.0                0.0            0.0   \n",
              "149897                           0.0                0.0            0.0   \n",
              "\n",
              "        category_Tops & Tees  category_Underwear  \n",
              "0                        0.0                 0.0  \n",
              "1                        0.0                 0.0  \n",
              "2                        0.0                 0.0  \n",
              "3                        0.0                 0.0  \n",
              "4                        0.0                 0.0  \n",
              "...                      ...                 ...  \n",
              "149893                   1.0                 0.0  \n",
              "149894                   0.0                 0.0  \n",
              "149895                   1.0                 0.0  \n",
              "149896                   1.0                 0.0  \n",
              "149897                   0.0                 0.0  \n",
              "\n",
              "[137370 rows x 51 columns]"
            ]
          },
          "execution_count": 29,
          "metadata": {},
          "output_type": "execute_result"
        }
      ],
      "source": [
        "Data_final_preprocessing"
      ]
    },
    {
      "cell_type": "code",
      "execution_count": null,
      "metadata": {
        "colab": {
          "base_uri": "https://localhost:8080/"
        },
        "id": "BYVHnTPEmKCu",
        "outputId": "120eb844-c498-44c0-8196-7983e83a1bbe"
      },
      "outputs": [
        {
          "name": "stdout",
          "output_type": "stream",
          "text": [
            "Looking in indexes: https://pypi.org/simple, https://us-python.pkg.dev/colab-wheels/public/simple/\n",
            "Collecting kmodes\n",
            "  Downloading kmodes-0.12.1-py2.py3-none-any.whl (20 kB)\n",
            "Requirement already satisfied: numpy>=1.10.4 in /usr/local/lib/python3.7/dist-packages (from kmodes) (1.21.6)\n",
            "Requirement already satisfied: scipy>=0.13.3 in /usr/local/lib/python3.7/dist-packages (from kmodes) (1.4.1)\n",
            "Requirement already satisfied: joblib>=0.11 in /usr/local/lib/python3.7/dist-packages (from kmodes) (1.1.0)\n",
            "Requirement already satisfied: scikit-learn>=0.22.0 in /usr/local/lib/python3.7/dist-packages (from kmodes) (1.0.2)\n",
            "Requirement already satisfied: threadpoolctl>=2.0.0 in /usr/local/lib/python3.7/dist-packages (from scikit-learn>=0.22.0->kmodes) (3.1.0)\n",
            "Installing collected packages: kmodes\n",
            "Successfully installed kmodes-0.12.1\n"
          ]
        }
      ],
      "source": [
        "!pip install kmodes"
      ]
    },
    {
      "cell_type": "markdown",
      "metadata": {
        "id": "TB-jasPopU6k"
      },
      "source": [
        "## K-Modes"
      ]
    },
    {
      "cell_type": "markdown",
      "metadata": {
        "id": "o9auPxqjA3TP"
      },
      "source": [
        "### Version 1"
      ]
    },
    {
      "cell_type": "code",
      "execution_count": null,
      "metadata": {
        "colab": {
          "base_uri": "https://localhost:8080/",
          "height": 424
        },
        "id": "6zA7V6Ejqulu",
        "outputId": "aca637ff-7df9-4df3-ce69-34649804aaa2"
      },
      "outputs": [
        {
          "data": {
            "text/html": [
              "\n",
              "  <div id=\"df-f9524eee-4c49-48e5-b6ba-4ff580c92573\">\n",
              "    <div class=\"colab-df-container\">\n",
              "      <div>\n",
              "<style scoped>\n",
              "    .dataframe tbody tr th:only-of-type {\n",
              "        vertical-align: middle;\n",
              "    }\n",
              "\n",
              "    .dataframe tbody tr th {\n",
              "        vertical-align: top;\n",
              "    }\n",
              "\n",
              "    .dataframe thead th {\n",
              "        text-align: right;\n",
              "    }\n",
              "</style>\n",
              "<table border=\"1\" class=\"dataframe\">\n",
              "  <thead>\n",
              "    <tr style=\"text-align: right;\">\n",
              "      <th></th>\n",
              "      <th>age</th>\n",
              "      <th>Kategori_umur</th>\n",
              "      <th>gender</th>\n",
              "      <th>country</th>\n",
              "      <th>traffic_source</th>\n",
              "      <th>category</th>\n",
              "    </tr>\n",
              "  </thead>\n",
              "  <tbody>\n",
              "    <tr>\n",
              "      <th>0</th>\n",
              "      <td>44</td>\n",
              "      <td>Dewasa</td>\n",
              "      <td>F</td>\n",
              "      <td>China</td>\n",
              "      <td>Email</td>\n",
              "      <td>Accessories</td>\n",
              "    </tr>\n",
              "    <tr>\n",
              "      <th>1</th>\n",
              "      <td>45</td>\n",
              "      <td>Dewasa</td>\n",
              "      <td>F</td>\n",
              "      <td>Spain</td>\n",
              "      <td>Organic</td>\n",
              "      <td>Accessories</td>\n",
              "    </tr>\n",
              "    <tr>\n",
              "      <th>2</th>\n",
              "      <td>41</td>\n",
              "      <td>Dewasa</td>\n",
              "      <td>M</td>\n",
              "      <td>China</td>\n",
              "      <td>Search</td>\n",
              "      <td>Accessories</td>\n",
              "    </tr>\n",
              "    <tr>\n",
              "      <th>3</th>\n",
              "      <td>14</td>\n",
              "      <td>Muda</td>\n",
              "      <td>M</td>\n",
              "      <td>South Korea</td>\n",
              "      <td>Search</td>\n",
              "      <td>Accessories</td>\n",
              "    </tr>\n",
              "    <tr>\n",
              "      <th>4</th>\n",
              "      <td>50</td>\n",
              "      <td>Dewasa</td>\n",
              "      <td>M</td>\n",
              "      <td>Australia</td>\n",
              "      <td>Search</td>\n",
              "      <td>Accessories</td>\n",
              "    </tr>\n",
              "    <tr>\n",
              "      <th>...</th>\n",
              "      <td>...</td>\n",
              "      <td>...</td>\n",
              "      <td>...</td>\n",
              "      <td>...</td>\n",
              "      <td>...</td>\n",
              "      <td>...</td>\n",
              "    </tr>\n",
              "    <tr>\n",
              "      <th>162428</th>\n",
              "      <td>18</td>\n",
              "      <td>Muda</td>\n",
              "      <td>F</td>\n",
              "      <td>Belgium</td>\n",
              "      <td>Search</td>\n",
              "      <td>Tops &amp; Tees</td>\n",
              "    </tr>\n",
              "    <tr>\n",
              "      <th>162429</th>\n",
              "      <td>57</td>\n",
              "      <td>Dewasa</td>\n",
              "      <td>F</td>\n",
              "      <td>China</td>\n",
              "      <td>Search</td>\n",
              "      <td>Shorts</td>\n",
              "    </tr>\n",
              "    <tr>\n",
              "      <th>162430</th>\n",
              "      <td>44</td>\n",
              "      <td>Dewasa</td>\n",
              "      <td>F</td>\n",
              "      <td>United States</td>\n",
              "      <td>Search</td>\n",
              "      <td>Tops &amp; Tees</td>\n",
              "    </tr>\n",
              "    <tr>\n",
              "      <th>162431</th>\n",
              "      <td>23</td>\n",
              "      <td>Dewasa</td>\n",
              "      <td>F</td>\n",
              "      <td>Australia</td>\n",
              "      <td>Search</td>\n",
              "      <td>Tops &amp; Tees</td>\n",
              "    </tr>\n",
              "    <tr>\n",
              "      <th>162432</th>\n",
              "      <td>48</td>\n",
              "      <td>Dewasa</td>\n",
              "      <td>F</td>\n",
              "      <td>Japan</td>\n",
              "      <td>Email</td>\n",
              "      <td>Dresses</td>\n",
              "    </tr>\n",
              "  </tbody>\n",
              "</table>\n",
              "<p>149898 rows × 6 columns</p>\n",
              "</div>\n",
              "      <button class=\"colab-df-convert\" onclick=\"convertToInteractive('df-f9524eee-4c49-48e5-b6ba-4ff580c92573')\"\n",
              "              title=\"Convert this dataframe to an interactive table.\"\n",
              "              style=\"display:none;\">\n",
              "        \n",
              "  <svg xmlns=\"http://www.w3.org/2000/svg\" height=\"24px\"viewBox=\"0 0 24 24\"\n",
              "       width=\"24px\">\n",
              "    <path d=\"M0 0h24v24H0V0z\" fill=\"none\"/>\n",
              "    <path d=\"M18.56 5.44l.94 2.06.94-2.06 2.06-.94-2.06-.94-.94-2.06-.94 2.06-2.06.94zm-11 1L8.5 8.5l.94-2.06 2.06-.94-2.06-.94L8.5 2.5l-.94 2.06-2.06.94zm10 10l.94 2.06.94-2.06 2.06-.94-2.06-.94-.94-2.06-.94 2.06-2.06.94z\"/><path d=\"M17.41 7.96l-1.37-1.37c-.4-.4-.92-.59-1.43-.59-.52 0-1.04.2-1.43.59L10.3 9.45l-7.72 7.72c-.78.78-.78 2.05 0 2.83L4 21.41c.39.39.9.59 1.41.59.51 0 1.02-.2 1.41-.59l7.78-7.78 2.81-2.81c.8-.78.8-2.07 0-2.86zM5.41 20L4 18.59l7.72-7.72 1.47 1.35L5.41 20z\"/>\n",
              "  </svg>\n",
              "      </button>\n",
              "      \n",
              "  <style>\n",
              "    .colab-df-container {\n",
              "      display:flex;\n",
              "      flex-wrap:wrap;\n",
              "      gap: 12px;\n",
              "    }\n",
              "\n",
              "    .colab-df-convert {\n",
              "      background-color: #E8F0FE;\n",
              "      border: none;\n",
              "      border-radius: 50%;\n",
              "      cursor: pointer;\n",
              "      display: none;\n",
              "      fill: #1967D2;\n",
              "      height: 32px;\n",
              "      padding: 0 0 0 0;\n",
              "      width: 32px;\n",
              "    }\n",
              "\n",
              "    .colab-df-convert:hover {\n",
              "      background-color: #E2EBFA;\n",
              "      box-shadow: 0px 1px 2px rgba(60, 64, 67, 0.3), 0px 1px 3px 1px rgba(60, 64, 67, 0.15);\n",
              "      fill: #174EA6;\n",
              "    }\n",
              "\n",
              "    [theme=dark] .colab-df-convert {\n",
              "      background-color: #3B4455;\n",
              "      fill: #D2E3FC;\n",
              "    }\n",
              "\n",
              "    [theme=dark] .colab-df-convert:hover {\n",
              "      background-color: #434B5C;\n",
              "      box-shadow: 0px 1px 3px 1px rgba(0, 0, 0, 0.15);\n",
              "      filter: drop-shadow(0px 1px 2px rgba(0, 0, 0, 0.3));\n",
              "      fill: #FFFFFF;\n",
              "    }\n",
              "  </style>\n",
              "\n",
              "      <script>\n",
              "        const buttonEl =\n",
              "          document.querySelector('#df-f9524eee-4c49-48e5-b6ba-4ff580c92573 button.colab-df-convert');\n",
              "        buttonEl.style.display =\n",
              "          google.colab.kernel.accessAllowed ? 'block' : 'none';\n",
              "\n",
              "        async function convertToInteractive(key) {\n",
              "          const element = document.querySelector('#df-f9524eee-4c49-48e5-b6ba-4ff580c92573');\n",
              "          const dataTable =\n",
              "            await google.colab.kernel.invokeFunction('convertToInteractive',\n",
              "                                                     [key], {});\n",
              "          if (!dataTable) return;\n",
              "\n",
              "          const docLinkHtml = 'Like what you see? Visit the ' +\n",
              "            '<a target=\"_blank\" href=https://colab.research.google.com/notebooks/data_table.ipynb>data table notebook</a>'\n",
              "            + ' to learn more about interactive tables.';\n",
              "          element.innerHTML = '';\n",
              "          dataTable['output_type'] = 'display_data';\n",
              "          await google.colab.output.renderOutput(dataTable, element);\n",
              "          const docLink = document.createElement('div');\n",
              "          docLink.innerHTML = docLinkHtml;\n",
              "          element.appendChild(docLink);\n",
              "        }\n",
              "      </script>\n",
              "    </div>\n",
              "  </div>\n",
              "  "
            ],
            "text/plain": [
              "        age Kategori_umur gender        country traffic_source     category\n",
              "0        44        Dewasa      F          China          Email  Accessories\n",
              "1        45        Dewasa      F          Spain        Organic  Accessories\n",
              "2        41        Dewasa      M          China         Search  Accessories\n",
              "3        14          Muda      M    South Korea         Search  Accessories\n",
              "4        50        Dewasa      M      Australia         Search  Accessories\n",
              "...     ...           ...    ...            ...            ...          ...\n",
              "162428   18          Muda      F        Belgium         Search  Tops & Tees\n",
              "162429   57        Dewasa      F          China         Search       Shorts\n",
              "162430   44        Dewasa      F  United States         Search  Tops & Tees\n",
              "162431   23        Dewasa      F      Australia         Search  Tops & Tees\n",
              "162432   48        Dewasa      F          Japan          Email      Dresses\n",
              "\n",
              "[149898 rows x 6 columns]"
            ]
          },
          "execution_count": 33,
          "metadata": {},
          "output_type": "execute_result"
        }
      ],
      "source": [
        "data_final"
      ]
    },
    {
      "cell_type": "code",
      "execution_count": null,
      "metadata": {
        "colab": {
          "base_uri": "https://localhost:8080/"
        },
        "id": "Zgs5J-Ny7oK6",
        "outputId": "cef77c12-017c-45a8-c2f8-93a5aba2989a"
      },
      "outputs": [
        {
          "name": "stdout",
          "output_type": "stream",
          "text": [
            "<class 'pandas.core.frame.DataFrame'>\n",
            "Int64Index: 149898 entries, 0 to 162432\n",
            "Data columns (total 7 columns):\n",
            " #   Column          Non-Null Count   Dtype \n",
            "---  ------          --------------   ----- \n",
            " 0   age             149898 non-null  int64 \n",
            " 1   Kategori_umur   149898 non-null  object\n",
            " 2   gender          149898 non-null  object\n",
            " 3   country         149898 non-null  object\n",
            " 4   traffic_source  149898 non-null  object\n",
            " 5   category        149898 non-null  object\n",
            " 6   Cluster         149898 non-null  uint16\n",
            "dtypes: int64(1), object(5), uint16(1)\n",
            "memory usage: 12.3+ MB\n"
          ]
        }
      ],
      "source": [
        "data_final.info()"
      ]
    },
    {
      "cell_type": "code",
      "execution_count": null,
      "metadata": {
        "id": "4eSkQ_2D9hU6"
      },
      "outputs": [],
      "source": [
        "data_final.to_csv('data_tanpa_labelling.csv')"
      ]
    },
    {
      "cell_type": "code",
      "execution_count": null,
      "metadata": {
        "id": "8i8i4Vb9dJLi"
      },
      "outputs": [],
      "source": [
        "from kmodes.kmodes import KModes\n",
        "from sklearn.metrics import silhouette_score\n",
        "from sklearn.cluster import KMeans\n",
        "from sklearn.preprocessing import StandardScaler"
      ]
    },
    {
      "cell_type": "code",
      "execution_count": null,
      "metadata": {
        "colab": {
          "base_uri": "https://localhost:8080/",
          "height": 573
        },
        "id": "thPaJBe7saX1",
        "outputId": "328ef1b2-f12a-4c0b-8bfb-2e2c1330249a"
      },
      "outputs": [
        {
          "name": "stdout",
          "output_type": "stream",
          "text": [
            "Init: initializing centroids\n",
            "Init: initializing clusters\n",
            "Starting iterations...\n",
            "Run 1, iteration: 1/100, moves: 0, cost: 530737.0\n",
            "Init: initializing centroids\n",
            "Init: initializing clusters\n",
            "Starting iterations...\n",
            "Run 1, iteration: 1/100, moves: 0, cost: 457030.0\n",
            "Init: initializing centroids\n",
            "Init: initializing clusters\n",
            "Starting iterations...\n",
            "Run 1, iteration: 1/100, moves: 0, cost: 437669.0\n",
            "Init: initializing centroids\n",
            "Init: initializing clusters\n",
            "Starting iterations...\n",
            "Run 1, iteration: 1/100, moves: 0, cost: 418560.0\n"
          ]
        },
        {
          "data": {
            "image/png": "[encoded data removed]",
            "text/plain": [
              "<Figure size 432x288 with 1 Axes>"
            ]
          },
          "metadata": {
            "needs_background": "light"
          },
          "output_type": "display_data"
        }
      ],
      "source": [
        "cost = []\n",
        "K = range(1,5)\n",
        "for num_clusters in list(K):\n",
        "    kmode = KModes(n_clusters=num_clusters, init = \"Cao\", n_init = 1, verbose=1)\n",
        "    kmode.fit_predict(data_final)\n",
        "    cost.append(kmode.cost_)\n",
        "    \n",
        "plt.plot(K, cost, 'bx-')\n",
        "plt.xlabel('k clusters')\n",
        "plt.ylabel('Cost')\n",
        "plt.title('Elbow Method For Optimal k')\n",
        "plt.show()"
      ]
    },
    {
      "cell_type": "code",
      "execution_count": null,
      "metadata": {
        "colab": {
          "base_uri": "https://localhost:8080/"
        },
        "id": "VVwLMJ-tq0EV",
        "outputId": "6e67cc23-186d-4c6c-ba82-3642c1074cb3"
      },
      "outputs": [
        {
          "name": "stdout",
          "output_type": "stream",
          "text": [
            "Init: initializing centroids\n",
            "Init: initializing clusters\n",
            "Starting iterations...\n",
            "Run 1, iteration: 1/100, moves: 0, cost: 457030.0\n"
          ]
        },
        {
          "name": "stderr",
          "output_type": "stream",
          "text": [
            "/usr/local/lib/python3.7/dist-packages/ipykernel_launcher.py:3: SettingWithCopyWarning: \n",
            "A value is trying to be set on a copy of a slice from a DataFrame.\n",
            "Try using .loc[row_indexer,col_indexer] = value instead\n",
            "\n",
            "See the caveats in the documentation: https://pandas.pydata.org/pandas-docs/stable/user_guide/indexing.html#returning-a-view-versus-a-copy\n",
            "  This is separate from the ipykernel package so we can avoid doing imports until\n"
          ]
        }
      ],
      "source": [
        "km = KModes(n_clusters=2, init = \"Cao\", n_init = 1, verbose=1)\n",
        "cluster_labels = km.fit_predict(data_final)\n",
        "data_final['Cluster'] = cluster_labels"
      ]
    },
    {
      "cell_type": "code",
      "execution_count": null,
      "metadata": {
        "colab": {
          "base_uri": "https://localhost:8080/",
          "height": 424
        },
        "id": "sfKQS_2GrG_M",
        "outputId": "76570315-3fb5-4820-a953-bc1694389a83"
      },
      "outputs": [
        {
          "data": {
            "text/html": [
              "\n",
              "  <div id=\"df-52eb6d31-cd7c-4186-a3f3-f41350299d02\">\n",
              "    <div class=\"colab-df-container\">\n",
              "      <div>\n",
              "<style scoped>\n",
              "    .dataframe tbody tr th:only-of-type {\n",
              "        vertical-align: middle;\n",
              "    }\n",
              "\n",
              "    .dataframe tbody tr th {\n",
              "        vertical-align: top;\n",
              "    }\n",
              "\n",
              "    .dataframe thead th {\n",
              "        text-align: right;\n",
              "    }\n",
              "</style>\n",
              "<table border=\"1\" class=\"dataframe\">\n",
              "  <thead>\n",
              "    <tr style=\"text-align: right;\">\n",
              "      <th></th>\n",
              "      <th>age</th>\n",
              "      <th>Kategori_umur</th>\n",
              "      <th>gender</th>\n",
              "      <th>country</th>\n",
              "      <th>traffic_source</th>\n",
              "      <th>category</th>\n",
              "      <th>Cluster</th>\n",
              "    </tr>\n",
              "  </thead>\n",
              "  <tbody>\n",
              "    <tr>\n",
              "      <th>0</th>\n",
              "      <td>44</td>\n",
              "      <td>Dewasa</td>\n",
              "      <td>F</td>\n",
              "      <td>China</td>\n",
              "      <td>Email</td>\n",
              "      <td>Accessories</td>\n",
              "      <td>0</td>\n",
              "    </tr>\n",
              "    <tr>\n",
              "      <th>1</th>\n",
              "      <td>45</td>\n",
              "      <td>Dewasa</td>\n",
              "      <td>F</td>\n",
              "      <td>Spain</td>\n",
              "      <td>Organic</td>\n",
              "      <td>Accessories</td>\n",
              "      <td>0</td>\n",
              "    </tr>\n",
              "    <tr>\n",
              "      <th>2</th>\n",
              "      <td>41</td>\n",
              "      <td>Dewasa</td>\n",
              "      <td>M</td>\n",
              "      <td>China</td>\n",
              "      <td>Search</td>\n",
              "      <td>Accessories</td>\n",
              "      <td>0</td>\n",
              "    </tr>\n",
              "    <tr>\n",
              "      <th>3</th>\n",
              "      <td>14</td>\n",
              "      <td>Muda</td>\n",
              "      <td>M</td>\n",
              "      <td>South Korea</td>\n",
              "      <td>Search</td>\n",
              "      <td>Accessories</td>\n",
              "      <td>1</td>\n",
              "    </tr>\n",
              "    <tr>\n",
              "      <th>4</th>\n",
              "      <td>50</td>\n",
              "      <td>Dewasa</td>\n",
              "      <td>M</td>\n",
              "      <td>Australia</td>\n",
              "      <td>Search</td>\n",
              "      <td>Accessories</td>\n",
              "      <td>0</td>\n",
              "    </tr>\n",
              "    <tr>\n",
              "      <th>...</th>\n",
              "      <td>...</td>\n",
              "      <td>...</td>\n",
              "      <td>...</td>\n",
              "      <td>...</td>\n",
              "      <td>...</td>\n",
              "      <td>...</td>\n",
              "      <td>...</td>\n",
              "    </tr>\n",
              "    <tr>\n",
              "      <th>162428</th>\n",
              "      <td>18</td>\n",
              "      <td>Muda</td>\n",
              "      <td>F</td>\n",
              "      <td>Belgium</td>\n",
              "      <td>Search</td>\n",
              "      <td>Tops &amp; Tees</td>\n",
              "      <td>0</td>\n",
              "    </tr>\n",
              "    <tr>\n",
              "      <th>162429</th>\n",
              "      <td>57</td>\n",
              "      <td>Dewasa</td>\n",
              "      <td>F</td>\n",
              "      <td>China</td>\n",
              "      <td>Search</td>\n",
              "      <td>Shorts</td>\n",
              "      <td>0</td>\n",
              "    </tr>\n",
              "    <tr>\n",
              "      <th>162430</th>\n",
              "      <td>44</td>\n",
              "      <td>Dewasa</td>\n",
              "      <td>F</td>\n",
              "      <td>United States</td>\n",
              "      <td>Search</td>\n",
              "      <td>Tops &amp; Tees</td>\n",
              "      <td>0</td>\n",
              "    </tr>\n",
              "    <tr>\n",
              "      <th>162431</th>\n",
              "      <td>23</td>\n",
              "      <td>Dewasa</td>\n",
              "      <td>F</td>\n",
              "      <td>Australia</td>\n",
              "      <td>Search</td>\n",
              "      <td>Tops &amp; Tees</td>\n",
              "      <td>0</td>\n",
              "    </tr>\n",
              "    <tr>\n",
              "      <th>162432</th>\n",
              "      <td>48</td>\n",
              "      <td>Dewasa</td>\n",
              "      <td>F</td>\n",
              "      <td>Japan</td>\n",
              "      <td>Email</td>\n",
              "      <td>Dresses</td>\n",
              "      <td>0</td>\n",
              "    </tr>\n",
              "  </tbody>\n",
              "</table>\n",
              "<p>149898 rows × 7 columns</p>\n",
              "</div>\n",
              "      <button class=\"colab-df-convert\" onclick=\"convertToInteractive('df-52eb6d31-cd7c-4186-a3f3-f41350299d02')\"\n",
              "              title=\"Convert this dataframe to an interactive table.\"\n",
              "              style=\"display:none;\">\n",
              "        \n",
              "  <svg xmlns=\"http://www.w3.org/2000/svg\" height=\"24px\"viewBox=\"0 0 24 24\"\n",
              "       width=\"24px\">\n",
              "    <path d=\"M0 0h24v24H0V0z\" fill=\"none\"/>\n",
              "    <path d=\"M18.56 5.44l.94 2.06.94-2.06 2.06-.94-2.06-.94-.94-2.06-.94 2.06-2.06.94zm-11 1L8.5 8.5l.94-2.06 2.06-.94-2.06-.94L8.5 2.5l-.94 2.06-2.06.94zm10 10l.94 2.06.94-2.06 2.06-.94-2.06-.94-.94-2.06-.94 2.06-2.06.94z\"/><path d=\"M17.41 7.96l-1.37-1.37c-.4-.4-.92-.59-1.43-.59-.52 0-1.04.2-1.43.59L10.3 9.45l-7.72 7.72c-.78.78-.78 2.05 0 2.83L4 21.41c.39.39.9.59 1.41.59.51 0 1.02-.2 1.41-.59l7.78-7.78 2.81-2.81c.8-.78.8-2.07 0-2.86zM5.41 20L4 18.59l7.72-7.72 1.47 1.35L5.41 20z\"/>\n",
              "  </svg>\n",
              "      </button>\n",
              "      \n",
              "  <style>\n",
              "    .colab-df-container {\n",
              "      display:flex;\n",
              "      flex-wrap:wrap;\n",
              "      gap: 12px;\n",
              "    }\n",
              "\n",
              "    .colab-df-convert {\n",
              "      background-color: #E8F0FE;\n",
              "      border: none;\n",
              "      border-radius: 50%;\n",
              "      cursor: pointer;\n",
              "      display: none;\n",
              "      fill: #1967D2;\n",
              "      height: 32px;\n",
              "      padding: 0 0 0 0;\n",
              "      width: 32px;\n",
              "    }\n",
              "\n",
              "    .colab-df-convert:hover {\n",
              "      background-color: #E2EBFA;\n",
              "      box-shadow: 0px 1px 2px rgba(60, 64, 67, 0.3), 0px 1px 3px 1px rgba(60, 64, 67, 0.15);\n",
              "      fill: #174EA6;\n",
              "    }\n",
              "\n",
              "    [theme=dark] .colab-df-convert {\n",
              "      background-color: #3B4455;\n",
              "      fill: #D2E3FC;\n",
              "    }\n",
              "\n",
              "    [theme=dark] .colab-df-convert:hover {\n",
              "      background-color: #434B5C;\n",
              "      box-shadow: 0px 1px 3px 1px rgba(0, 0, 0, 0.15);\n",
              "      filter: drop-shadow(0px 1px 2px rgba(0, 0, 0, 0.3));\n",
              "      fill: #FFFFFF;\n",
              "    }\n",
              "  </style>\n",
              "\n",
              "      <script>\n",
              "        const buttonEl =\n",
              "          document.querySelector('#df-52eb6d31-cd7c-4186-a3f3-f41350299d02 button.colab-df-convert');\n",
              "        buttonEl.style.display =\n",
              "          google.colab.kernel.accessAllowed ? 'block' : 'none';\n",
              "\n",
              "        async function convertToInteractive(key) {\n",
              "          const element = document.querySelector('#df-52eb6d31-cd7c-4186-a3f3-f41350299d02');\n",
              "          const dataTable =\n",
              "            await google.colab.kernel.invokeFunction('convertToInteractive',\n",
              "                                                     [key], {});\n",
              "          if (!dataTable) return;\n",
              "\n",
              "          const docLinkHtml = 'Like what you see? Visit the ' +\n",
              "            '<a target=\"_blank\" href=https://colab.research.google.com/notebooks/data_table.ipynb>data table notebook</a>'\n",
              "            + ' to learn more about interactive tables.';\n",
              "          element.innerHTML = '';\n",
              "          dataTable['output_type'] = 'display_data';\n",
              "          await google.colab.output.renderOutput(dataTable, element);\n",
              "          const docLink = document.createElement('div');\n",
              "          docLink.innerHTML = docLinkHtml;\n",
              "          element.appendChild(docLink);\n",
              "        }\n",
              "      </script>\n",
              "    </div>\n",
              "  </div>\n",
              "  "
            ],
            "text/plain": [
              "        age Kategori_umur gender        country traffic_source     category  \\\n",
              "0        44        Dewasa      F          China          Email  Accessories   \n",
              "1        45        Dewasa      F          Spain        Organic  Accessories   \n",
              "2        41        Dewasa      M          China         Search  Accessories   \n",
              "3        14          Muda      M    South Korea         Search  Accessories   \n",
              "4        50        Dewasa      M      Australia         Search  Accessories   \n",
              "...     ...           ...    ...            ...            ...          ...   \n",
              "162428   18          Muda      F        Belgium         Search  Tops & Tees   \n",
              "162429   57        Dewasa      F          China         Search       Shorts   \n",
              "162430   44        Dewasa      F  United States         Search  Tops & Tees   \n",
              "162431   23        Dewasa      F      Australia         Search  Tops & Tees   \n",
              "162432   48        Dewasa      F          Japan          Email      Dresses   \n",
              "\n",
              "        Cluster  \n",
              "0             0  \n",
              "1             0  \n",
              "2             0  \n",
              "3             1  \n",
              "4             0  \n",
              "...         ...  \n",
              "162428        0  \n",
              "162429        0  \n",
              "162430        0  \n",
              "162431        0  \n",
              "162432        0  \n",
              "\n",
              "[149898 rows x 7 columns]"
            ]
          },
          "execution_count": 37,
          "metadata": {},
          "output_type": "execute_result"
        }
      ],
      "source": [
        "data_final"
      ]
    },
    {
      "cell_type": "code",
      "execution_count": null,
      "metadata": {
        "colab": {
          "base_uri": "https://localhost:8080/",
          "height": 1000
        },
        "id": "CLWqKkVZrUFV",
        "outputId": "f9232ba9-7e49-4278-d62d-29b66b5b847d"
      },
      "outputs": [
        {
          "data": {
            "image/png": "[encoded data removed]",
            "text/plain": [
              "<Figure size 1080x360 with 1 Axes>"
            ]
          },
          "metadata": {
            "needs_background": "light"
          },
          "output_type": "display_data"
        },
        {
          "data": {
            "image/png": "[encoded data removed]",
            "text/plain": [
              "<Figure size 1080x360 with 1 Axes>"
            ]
          },
          "metadata": {
            "needs_background": "light"
          },
          "output_type": "display_data"
        },
        {
          "data": {
            "image/png": "[encoded data removed]",
            "text/plain": [
              "<Figure size 1080x360 with 1 Axes>"
            ]
          },
          "metadata": {
            "needs_background": "light"
          },
          "output_type": "display_data"
        },
        {
          "data": {
            "image/png": "[encoded data removed]",
            "text/plain": [
              "<Figure size 1080x360 with 1 Axes>"
            ]
          },
          "metadata": {
            "needs_background": "light"
          },
          "output_type": "display_data"
        },
        {
          "data": {
            "image/png": "[encoded data removed]",
            "text/plain": [
              "<Figure size 1080x360 with 1 Axes>"
            ]
          },
          "metadata": {
            "needs_background": "light"
          },
          "output_type": "display_data"
        },
        {
          "data": {
            "image/png": "[encoded data removed]",
            "text/plain": [
              "<Figure size 1080x360 with 1 Axes>"
            ]
          },
          "metadata": {
            "needs_background": "light"
          },
          "output_type": "display_data"
        },
        {
          "data": {
            "image/png": "[encoded data removed]",
            "text/plain": [
              "<Figure size 1080x360 with 1 Axes>"
            ]
          },
          "metadata": {
            "needs_background": "light"
          },
          "output_type": "display_data"
        }
      ],
      "source": [
        "for col in data_final:\n",
        "    plt.subplots(figsize = (15,5))\n",
        "    sns.countplot(x='Cluster',hue=col, data = data_final)\n",
        "    plt.show()"
      ]
    },
    {
      "cell_type": "code",
      "execution_count": null,
      "metadata": {
        "id": "U2fnwPgrRkJ0"
      },
      "outputs": [],
      "source": [
        "labels1 = km.labels_"
      ]
    },
    {
      "cell_type": "code",
      "execution_count": null,
      "metadata": {
        "id": "z0DvELTsRwiR"
      },
      "outputs": [],
      "source": [
        "from sklearn.metrics import silhouette_score"
      ]
    },
    {
      "cell_type": "code",
      "execution_count": null,
      "metadata": {
        "id": "PZhW98jsR7Qy"
      },
      "outputs": [],
      "source": [
        "data = data_final.copy()"
      ]
    },
    {
      "cell_type": "code",
      "execution_count": null,
      "metadata": {
        "colab": {
          "base_uri": "https://localhost:8080/",
          "height": 206
        },
        "id": "modsGspxR9mC",
        "outputId": "65c11370-a413-4584-dfc7-cad115e7546f"
      },
      "outputs": [
        {
          "data": {
            "text/html": [
              "\n",
              "  <div id=\"df-a99f8750-eb89-4f30-b706-9e23d9f1e0e8\">\n",
              "    <div class=\"colab-df-container\">\n",
              "      <div>\n",
              "<style scoped>\n",
              "    .dataframe tbody tr th:only-of-type {\n",
              "        vertical-align: middle;\n",
              "    }\n",
              "\n",
              "    .dataframe tbody tr th {\n",
              "        vertical-align: top;\n",
              "    }\n",
              "\n",
              "    .dataframe thead th {\n",
              "        text-align: right;\n",
              "    }\n",
              "</style>\n",
              "<table border=\"1\" class=\"dataframe\">\n",
              "  <thead>\n",
              "    <tr style=\"text-align: right;\">\n",
              "      <th></th>\n",
              "      <th>age</th>\n",
              "      <th>Kategori_umur</th>\n",
              "      <th>gender</th>\n",
              "      <th>country</th>\n",
              "      <th>traffic_source</th>\n",
              "      <th>category</th>\n",
              "      <th>Cluster</th>\n",
              "    </tr>\n",
              "  </thead>\n",
              "  <tbody>\n",
              "    <tr>\n",
              "      <th>0</th>\n",
              "      <td>32</td>\n",
              "      <td>0</td>\n",
              "      <td>0</td>\n",
              "      <td>4</td>\n",
              "      <td>1</td>\n",
              "      <td>0</td>\n",
              "      <td>0</td>\n",
              "    </tr>\n",
              "    <tr>\n",
              "      <th>1</th>\n",
              "      <td>33</td>\n",
              "      <td>0</td>\n",
              "      <td>0</td>\n",
              "      <td>12</td>\n",
              "      <td>3</td>\n",
              "      <td>0</td>\n",
              "      <td>0</td>\n",
              "    </tr>\n",
              "    <tr>\n",
              "      <th>2</th>\n",
              "      <td>29</td>\n",
              "      <td>0</td>\n",
              "      <td>1</td>\n",
              "      <td>4</td>\n",
              "      <td>4</td>\n",
              "      <td>0</td>\n",
              "      <td>0</td>\n",
              "    </tr>\n",
              "    <tr>\n",
              "      <th>3</th>\n",
              "      <td>2</td>\n",
              "      <td>1</td>\n",
              "      <td>1</td>\n",
              "      <td>11</td>\n",
              "      <td>4</td>\n",
              "      <td>0</td>\n",
              "      <td>1</td>\n",
              "    </tr>\n",
              "    <tr>\n",
              "      <th>4</th>\n",
              "      <td>38</td>\n",
              "      <td>0</td>\n",
              "      <td>1</td>\n",
              "      <td>0</td>\n",
              "      <td>4</td>\n",
              "      <td>0</td>\n",
              "      <td>0</td>\n",
              "    </tr>\n",
              "  </tbody>\n",
              "</table>\n",
              "</div>\n",
              "      <button class=\"colab-df-convert\" onclick=\"convertToInteractive('df-a99f8750-eb89-4f30-b706-9e23d9f1e0e8')\"\n",
              "              title=\"Convert this dataframe to an interactive table.\"\n",
              "              style=\"display:none;\">\n",
              "        \n",
              "  <svg xmlns=\"http://www.w3.org/2000/svg\" height=\"24px\"viewBox=\"0 0 24 24\"\n",
              "       width=\"24px\">\n",
              "    <path d=\"M0 0h24v24H0V0z\" fill=\"none\"/>\n",
              "    <path d=\"M18.56 5.44l.94 2.06.94-2.06 2.06-.94-2.06-.94-.94-2.06-.94 2.06-2.06.94zm-11 1L8.5 8.5l.94-2.06 2.06-.94-2.06-.94L8.5 2.5l-.94 2.06-2.06.94zm10 10l.94 2.06.94-2.06 2.06-.94-2.06-.94-.94-2.06-.94 2.06-2.06.94z\"/><path d=\"M17.41 7.96l-1.37-1.37c-.4-.4-.92-.59-1.43-.59-.52 0-1.04.2-1.43.59L10.3 9.45l-7.72 7.72c-.78.78-.78 2.05 0 2.83L4 21.41c.39.39.9.59 1.41.59.51 0 1.02-.2 1.41-.59l7.78-7.78 2.81-2.81c.8-.78.8-2.07 0-2.86zM5.41 20L4 18.59l7.72-7.72 1.47 1.35L5.41 20z\"/>\n",
              "  </svg>\n",
              "      </button>\n",
              "      \n",
              "  <style>\n",
              "    .colab-df-container {\n",
              "      display:flex;\n",
              "      flex-wrap:wrap;\n",
              "      gap: 12px;\n",
              "    }\n",
              "\n",
              "    .colab-df-convert {\n",
              "      background-color: #E8F0FE;\n",
              "      border: none;\n",
              "      border-radius: 50%;\n",
              "      cursor: pointer;\n",
              "      display: none;\n",
              "      fill: #1967D2;\n",
              "      height: 32px;\n",
              "      padding: 0 0 0 0;\n",
              "      width: 32px;\n",
              "    }\n",
              "\n",
              "    .colab-df-convert:hover {\n",
              "      background-color: #E2EBFA;\n",
              "      box-shadow: 0px 1px 2px rgba(60, 64, 67, 0.3), 0px 1px 3px 1px rgba(60, 64, 67, 0.15);\n",
              "      fill: #174EA6;\n",
              "    }\n",
              "\n",
              "    [theme=dark] .colab-df-convert {\n",
              "      background-color: #3B4455;\n",
              "      fill: #D2E3FC;\n",
              "    }\n",
              "\n",
              "    [theme=dark] .colab-df-convert:hover {\n",
              "      background-color: #434B5C;\n",
              "      box-shadow: 0px 1px 3px 1px rgba(0, 0, 0, 0.15);\n",
              "      filter: drop-shadow(0px 1px 2px rgba(0, 0, 0, 0.3));\n",
              "      fill: #FFFFFF;\n",
              "    }\n",
              "  </style>\n",
              "\n",
              "      <script>\n",
              "        const buttonEl =\n",
              "          document.querySelector('#df-a99f8750-eb89-4f30-b706-9e23d9f1e0e8 button.colab-df-convert');\n",
              "        buttonEl.style.display =\n",
              "          google.colab.kernel.accessAllowed ? 'block' : 'none';\n",
              "\n",
              "        async function convertToInteractive(key) {\n",
              "          const element = document.querySelector('#df-a99f8750-eb89-4f30-b706-9e23d9f1e0e8');\n",
              "          const dataTable =\n",
              "            await google.colab.kernel.invokeFunction('convertToInteractive',\n",
              "                                                     [key], {});\n",
              "          if (!dataTable) return;\n",
              "\n",
              "          const docLinkHtml = 'Like what you see? Visit the ' +\n",
              "            '<a target=\"_blank\" href=https://colab.research.google.com/notebooks/data_table.ipynb>data table notebook</a>'\n",
              "            + ' to learn more about interactive tables.';\n",
              "          element.innerHTML = '';\n",
              "          dataTable['output_type'] = 'display_data';\n",
              "          await google.colab.output.renderOutput(dataTable, element);\n",
              "          const docLink = document.createElement('div');\n",
              "          docLink.innerHTML = docLinkHtml;\n",
              "          element.appendChild(docLink);\n",
              "        }\n",
              "      </script>\n",
              "    </div>\n",
              "  </div>\n",
              "  "
            ],
            "text/plain": [
              "   age  Kategori_umur  gender  country  traffic_source  category  Cluster\n",
              "0   32              0       0        4               1         0        0\n",
              "1   33              0       0       12               3         0        0\n",
              "2   29              0       1        4               4         0        0\n",
              "3    2              1       1       11               4         0        1\n",
              "4   38              0       1        0               4         0        0"
            ]
          },
          "execution_count": 42,
          "metadata": {},
          "output_type": "execute_result"
        }
      ],
      "source": [
        "from sklearn import preprocessing\n",
        "encoder = preprocessing.LabelEncoder()\n",
        "encoded_data = data.apply(encoder.fit_transform)\n",
        "encoded_data.head()"
      ]
    },
    {
      "cell_type": "code",
      "execution_count": null,
      "metadata": {
        "id": "GdwM0e4PF3E_"
      },
      "outputs": [],
      "source": [
        "encoded_data.to_csv(\"data_encoded.csv\")"
      ]
    },
    {
      "cell_type": "code",
      "execution_count": null,
      "metadata": {
        "colab": {
          "base_uri": "https://localhost:8080/"
        },
        "id": "dqm-xtoURrT6",
        "outputId": "d1671719-a3b4-4e5a-99bf-e656b7b6d3fe"
      },
      "outputs": [
        {
          "name": "stdout",
          "output_type": "stream",
          "text": [
            "0.01846021525834837\n"
          ]
        }
      ],
      "source": [
        "print(silhouette_score(encoded_data, labels= labels1))"
      ]
    },
    {
      "cell_type": "markdown",
      "metadata": {
        "id": "JnCAZIGwA8ow"
      },
      "source": [
        "### Version 2"
      ]
    },
    {
      "cell_type": "code",
      "execution_count": null,
      "metadata": {
        "id": "Y2iw3-RQA-J_"
      },
      "outputs": [],
      "source": [
        "data = data_final.copy()"
      ]
    },
    {
      "cell_type": "code",
      "execution_count": null,
      "metadata": {
        "colab": {
          "base_uri": "https://localhost:8080/"
        },
        "id": "3W93iHIYBvLG",
        "outputId": "8cc288c6-674c-4644-ece2-34cffa3e17ce"
      },
      "outputs": [
        {
          "data": {
            "text/plain": [
              "age               49\n",
              "Kategori_umur      2\n",
              "gender             2\n",
              "country           15\n",
              "traffic_source     5\n",
              "category          26\n",
              "Cluster            2\n",
              "dtype: int64"
            ]
          },
          "execution_count": 44,
          "metadata": {},
          "output_type": "execute_result"
        }
      ],
      "source": [
        "data.nunique()"
      ]
    },
    {
      "cell_type": "code",
      "execution_count": null,
      "metadata": {
        "id": "MDeGgSTLBfYg"
      },
      "outputs": [],
      "source": [
        "data = data.drop(['Cluster'], axis=1)"
      ]
    },
    {
      "cell_type": "code",
      "execution_count": null,
      "metadata": {
        "colab": {
          "base_uri": "https://localhost:8080/",
          "height": 206
        },
        "id": "U_KdqwkeBCTX",
        "outputId": "aeb97aaa-efd8-491d-ba60-b3c00e14edd5"
      },
      "outputs": [
        {
          "data": {
            "text/html": [
              "\n",
              "  <div id=\"df-4e23427d-0d27-4eea-9871-71390227a3c9\">\n",
              "    <div class=\"colab-df-container\">\n",
              "      <div>\n",
              "<style scoped>\n",
              "    .dataframe tbody tr th:only-of-type {\n",
              "        vertical-align: middle;\n",
              "    }\n",
              "\n",
              "    .dataframe tbody tr th {\n",
              "        vertical-align: top;\n",
              "    }\n",
              "\n",
              "    .dataframe thead th {\n",
              "        text-align: right;\n",
              "    }\n",
              "</style>\n",
              "<table border=\"1\" class=\"dataframe\">\n",
              "  <thead>\n",
              "    <tr style=\"text-align: right;\">\n",
              "      <th></th>\n",
              "      <th>age</th>\n",
              "      <th>Kategori_umur</th>\n",
              "      <th>gender</th>\n",
              "      <th>country</th>\n",
              "      <th>traffic_source</th>\n",
              "      <th>category</th>\n",
              "    </tr>\n",
              "  </thead>\n",
              "  <tbody>\n",
              "    <tr>\n",
              "      <th>0</th>\n",
              "      <td>32</td>\n",
              "      <td>0</td>\n",
              "      <td>0</td>\n",
              "      <td>4</td>\n",
              "      <td>1</td>\n",
              "      <td>0</td>\n",
              "    </tr>\n",
              "    <tr>\n",
              "      <th>1</th>\n",
              "      <td>33</td>\n",
              "      <td>0</td>\n",
              "      <td>0</td>\n",
              "      <td>12</td>\n",
              "      <td>3</td>\n",
              "      <td>0</td>\n",
              "    </tr>\n",
              "    <tr>\n",
              "      <th>2</th>\n",
              "      <td>29</td>\n",
              "      <td>0</td>\n",
              "      <td>1</td>\n",
              "      <td>4</td>\n",
              "      <td>4</td>\n",
              "      <td>0</td>\n",
              "    </tr>\n",
              "    <tr>\n",
              "      <th>3</th>\n",
              "      <td>2</td>\n",
              "      <td>1</td>\n",
              "      <td>1</td>\n",
              "      <td>11</td>\n",
              "      <td>4</td>\n",
              "      <td>0</td>\n",
              "    </tr>\n",
              "    <tr>\n",
              "      <th>4</th>\n",
              "      <td>38</td>\n",
              "      <td>0</td>\n",
              "      <td>1</td>\n",
              "      <td>0</td>\n",
              "      <td>4</td>\n",
              "      <td>0</td>\n",
              "    </tr>\n",
              "  </tbody>\n",
              "</table>\n",
              "</div>\n",
              "      <button class=\"colab-df-convert\" onclick=\"convertToInteractive('df-4e23427d-0d27-4eea-9871-71390227a3c9')\"\n",
              "              title=\"Convert this dataframe to an interactive table.\"\n",
              "              style=\"display:none;\">\n",
              "        \n",
              "  <svg xmlns=\"http://www.w3.org/2000/svg\" height=\"24px\"viewBox=\"0 0 24 24\"\n",
              "       width=\"24px\">\n",
              "    <path d=\"M0 0h24v24H0V0z\" fill=\"none\"/>\n",
              "    <path d=\"M18.56 5.44l.94 2.06.94-2.06 2.06-.94-2.06-.94-.94-2.06-.94 2.06-2.06.94zm-11 1L8.5 8.5l.94-2.06 2.06-.94-2.06-.94L8.5 2.5l-.94 2.06-2.06.94zm10 10l.94 2.06.94-2.06 2.06-.94-2.06-.94-.94-2.06-.94 2.06-2.06.94z\"/><path d=\"M17.41 7.96l-1.37-1.37c-.4-.4-.92-.59-1.43-.59-.52 0-1.04.2-1.43.59L10.3 9.45l-7.72 7.72c-.78.78-.78 2.05 0 2.83L4 21.41c.39.39.9.59 1.41.59.51 0 1.02-.2 1.41-.59l7.78-7.78 2.81-2.81c.8-.78.8-2.07 0-2.86zM5.41 20L4 18.59l7.72-7.72 1.47 1.35L5.41 20z\"/>\n",
              "  </svg>\n",
              "      </button>\n",
              "      \n",
              "  <style>\n",
              "    .colab-df-container {\n",
              "      display:flex;\n",
              "      flex-wrap:wrap;\n",
              "      gap: 12px;\n",
              "    }\n",
              "\n",
              "    .colab-df-convert {\n",
              "      background-color: #E8F0FE;\n",
              "      border: none;\n",
              "      border-radius: 50%;\n",
              "      cursor: pointer;\n",
              "      display: none;\n",
              "      fill: #1967D2;\n",
              "      height: 32px;\n",
              "      padding: 0 0 0 0;\n",
              "      width: 32px;\n",
              "    }\n",
              "\n",
              "    .colab-df-convert:hover {\n",
              "      background-color: #E2EBFA;\n",
              "      box-shadow: 0px 1px 2px rgba(60, 64, 67, 0.3), 0px 1px 3px 1px rgba(60, 64, 67, 0.15);\n",
              "      fill: #174EA6;\n",
              "    }\n",
              "\n",
              "    [theme=dark] .colab-df-convert {\n",
              "      background-color: #3B4455;\n",
              "      fill: #D2E3FC;\n",
              "    }\n",
              "\n",
              "    [theme=dark] .colab-df-convert:hover {\n",
              "      background-color: #434B5C;\n",
              "      box-shadow: 0px 1px 3px 1px rgba(0, 0, 0, 0.15);\n",
              "      filter: drop-shadow(0px 1px 2px rgba(0, 0, 0, 0.3));\n",
              "      fill: #FFFFFF;\n",
              "    }\n",
              "  </style>\n",
              "\n",
              "      <script>\n",
              "        const buttonEl =\n",
              "          document.querySelector('#df-4e23427d-0d27-4eea-9871-71390227a3c9 button.colab-df-convert');\n",
              "        buttonEl.style.display =\n",
              "          google.colab.kernel.accessAllowed ? 'block' : 'none';\n",
              "\n",
              "        async function convertToInteractive(key) {\n",
              "          const element = document.querySelector('#df-4e23427d-0d27-4eea-9871-71390227a3c9');\n",
              "          const dataTable =\n",
              "            await google.colab.kernel.invokeFunction('convertToInteractive',\n",
              "                                                     [key], {});\n",
              "          if (!dataTable) return;\n",
              "\n",
              "          const docLinkHtml = 'Like what you see? Visit the ' +\n",
              "            '<a target=\"_blank\" href=https://colab.research.google.com/notebooks/data_table.ipynb>data table notebook</a>'\n",
              "            + ' to learn more about interactive tables.';\n",
              "          element.innerHTML = '';\n",
              "          dataTable['output_type'] = 'display_data';\n",
              "          await google.colab.output.renderOutput(dataTable, element);\n",
              "          const docLink = document.createElement('div');\n",
              "          docLink.innerHTML = docLinkHtml;\n",
              "          element.appendChild(docLink);\n",
              "        }\n",
              "      </script>\n",
              "    </div>\n",
              "  </div>\n",
              "  "
            ],
            "text/plain": [
              "   age  Kategori_umur  gender  country  traffic_source  category\n",
              "0   32              0       0        4               1         0\n",
              "1   33              0       0       12               3         0\n",
              "2   29              0       1        4               4         0\n",
              "3    2              1       1       11               4         0\n",
              "4   38              0       1        0               4         0"
            ]
          },
          "execution_count": 46,
          "metadata": {},
          "output_type": "execute_result"
        }
      ],
      "source": [
        "from sklearn import preprocessing\n",
        "encoder = preprocessing.LabelEncoder()\n",
        "encoded_data = data.apply(encoder.fit_transform)\n",
        "encoded_data.head()"
      ]
    },
    {
      "cell_type": "code",
      "execution_count": null,
      "metadata": {
        "colab": {
          "base_uri": "https://localhost:8080/"
        },
        "id": "o_aIzd1UCHGX",
        "outputId": "149e053a-8630-4aa6-d203-4a62e578369e"
      },
      "outputs": [
        {
          "name": "stdout",
          "output_type": "stream",
          "text": [
            "Init: initializing centroids\n",
            "Init: initializing clusters\n",
            "Starting iterations...\n",
            "Run 1, iteration: 1/100, moves: 0, cost: 457030.0\n"
          ]
        }
      ],
      "source": [
        "km2 = KModes(n_clusters=2, init='cao',n_init=1, verbose=1)\n",
        "clusters = km2.fit_predict(encoded_data)\n",
        "predicted_labels = pd.DataFrame(clusters, columns=['predicted-label'])"
      ]
    },
    {
      "cell_type": "code",
      "execution_count": null,
      "metadata": {
        "colab": {
          "base_uri": "https://localhost:8080/",
          "height": 265
        },
        "id": "YeAbcJoqC4h_",
        "outputId": "fd629aaa-c1b7-4996-9f13-c967c9e35dca"
      },
      "outputs": [
        {
          "data": {
            "text/plain": [
              "<matplotlib.axes._subplots.AxesSubplot at 0x7fabbd99ac10>"
            ]
          },
          "execution_count": 48,
          "metadata": {},
          "output_type": "execute_result"
        },
        {
          "data": {
            "image/png": "[encoded data removed]",
            "text/plain": [
              "<Figure size 432x288 with 1 Axes>"
            ]
          },
          "metadata": {},
          "output_type": "display_data"
        }
      ],
      "source": [
        "predicted_labels.value_counts().plot.pie(autopct='%1.0f%%', pctdistance=0.7, labeldistance=1.1)"
      ]
    },
    {
      "cell_type": "code",
      "execution_count": null,
      "metadata": {
        "id": "H1iydD7sC_8W"
      },
      "outputs": [],
      "source": [
        "data['predicted-labels'] = clusters"
      ]
    },
    {
      "cell_type": "code",
      "execution_count": null,
      "metadata": {
        "id": "DE5EFc13DidH"
      },
      "outputs": [],
      "source": [
        "target = data_final[['Cluster']]"
      ]
    },
    {
      "cell_type": "code",
      "execution_count": null,
      "metadata": {
        "colab": {
          "base_uri": "https://localhost:8080/"
        },
        "id": "0IWTm6UWINAm",
        "outputId": "5b7fa14b-3287-4a63-cc4e-19319390bef9"
      },
      "outputs": [
        {
          "name": "stdout",
          "output_type": "stream",
          "text": [
            "in this encoding, [0] represents [0]\n"
          ]
        }
      ],
      "source": [
        "encoded_target = target.apply(encoder.fit_transform)\n",
        "print(f'in this encoding, {encoded_target.iloc[0].values} represents {target.iloc[0].values}')"
      ]
    },
    {
      "cell_type": "code",
      "execution_count": null,
      "metadata": {
        "colab": {
          "base_uri": "https://localhost:8080/"
        },
        "id": "YN-1VKN3DC_m",
        "outputId": "bf96a3bd-3638-4526-dd22-37990d22de68"
      },
      "outputs": [
        {
          "data": {
            "text/plain": [
              "target  prediction\n",
              "0       0             97306\n",
              "1       1             52592\n",
              "dtype: int64"
            ]
          },
          "execution_count": 52,
          "metadata": {},
          "output_type": "execute_result"
        }
      ],
      "source": [
        "labels = pd.DataFrame()\n",
        "labels['target'] = target.values.reshape(1, -1).tolist()[0]\n",
        "labels['prediction'] = clusters\n",
        "labels.value_counts([\"target\", \"prediction\"])"
      ]
    },
    {
      "cell_type": "code",
      "execution_count": null,
      "metadata": {
        "id": "5XBZICTwECp1"
      },
      "outputs": [],
      "source": [
        "from sklearn.metrics.cluster import adjusted_rand_score\n",
        "from sklearn.metrics.cluster import rand_score"
      ]
    },
    {
      "cell_type": "code",
      "execution_count": null,
      "metadata": {
        "colab": {
          "base_uri": "https://localhost:8080/"
        },
        "id": "6tInBj8ID5Em",
        "outputId": "25f52186-9182-481c-9815-6537e298afb4"
      },
      "outputs": [
        {
          "name": "stdout",
          "output_type": "stream",
          "text": [
            "Rand Index: 1.0\n",
            "Adjusted Rand Index: 1.0\n"
          ]
        }
      ],
      "source": [
        "ri = rand_score(target.values.reshape(1, -1)[0], clusters)\n",
        "ari = adjusted_rand_score(target.values.reshape(1, -1)[0], clusters)\n",
        "\n",
        "print(f'Rand Index: {ri}')\n",
        "print(f'Adjusted Rand Index: {ari}')"
      ]
    },
    {
      "cell_type": "code",
      "execution_count": null,
      "metadata": {
        "id": "8dEadCQKEKy2"
      },
      "outputs": [],
      "source": [
        "from sklearn.metrics import confusion_matrix"
      ]
    },
    {
      "cell_type": "code",
      "execution_count": null,
      "metadata": {
        "colab": {
          "base_uri": "https://localhost:8080/",
          "height": 296
        },
        "id": "3-IrCNnrEHtW",
        "outputId": "41994e7a-6860-404a-bb27-ee92cb75a7a1"
      },
      "outputs": [
        {
          "data": {
            "text/plain": [
              "Text(0.5, 15.0, 'Predicted Labels')"
            ]
          },
          "execution_count": 56,
          "metadata": {},
          "output_type": "execute_result"
        },
        {
          "data": {
            "image/png": "[encoded data removed]",
            "text/plain": [
              "<Figure size 432x288 with 2 Axes>"
            ]
          },
          "metadata": {
            "needs_background": "light"
          },
          "output_type": "display_data"
        }
      ],
      "source": [
        "cf_matrix = confusion_matrix(encoded_target.values.reshape(1, -1)[0], clusters)\n",
        "labels = ['True Neg','False Pos','False Neg','True Pos']\n",
        "labels = np.asarray(labels).reshape(2,2)\n",
        "fig, ax = plt.subplots(1, 1)\n",
        "sns.heatmap(cf_matrix/np.sum(cf_matrix), annot=labels, fmt='', cmap='Blues')\n",
        "ax.set_ylabel('Target Labels')    \n",
        "ax.set_xlabel('Predicted Labels')"
      ]
    },
    {
      "cell_type": "code",
      "execution_count": null,
      "metadata": {
        "id": "BTpM9CRdEbxe"
      },
      "outputs": [],
      "source": [
        "True_neg = cf_matrix[0,0]\n",
        "False_pos = cf_matrix[0,1]\n",
        "True_pos = cf_matrix[1,1]\n",
        "False_neg = cf_matrix[1,0]\n",
        "\n",
        "accuracy = (True_neg + True_pos)/(True_neg + False_neg + True_pos + False_pos)\n",
        "recall = (True_pos)/(False_neg+True_pos)\n",
        "precision = (True_pos)/(False_pos + True_pos)\n",
        "F1_score = 2 * ((precision*recall)/(precision+recall))"
      ]
    },
    {
      "cell_type": "code",
      "execution_count": null,
      "metadata": {
        "colab": {
          "base_uri": "https://localhost:8080/"
        },
        "id": "oNjlc8anEeEA",
        "outputId": "4f4b4100-d9de-4489-8e4f-63682d26011a"
      },
      "outputs": [
        {
          "name": "stdout",
          "output_type": "stream",
          "text": [
            "Accuracy: 1.0\n",
            "Recall: 1.0\n",
            "Precision: 1.0\n",
            "F1_score: 1.0\n"
          ]
        }
      ],
      "source": [
        "print(f'Accuracy: {accuracy}')\n",
        "print(f'Recall: {recall}')\n",
        "print(f'Precision: {precision}')\n",
        "print(f'F1_score: {F1_score}')"
      ]
    },
    {
      "cell_type": "code",
      "execution_count": null,
      "metadata": {
        "colab": {
          "base_uri": "https://localhost:8080/"
        },
        "id": "TZ_7k4VSNDqs",
        "outputId": "238d8946-4fe9-4534-d935-874fde733743"
      },
      "outputs": [
        {
          "name": "stdout",
          "output_type": "stream",
          "text": [
            "Init: initializing centroids\n",
            "Init: initializing clusters\n",
            "Starting iterations...\n",
            "Run 1, iteration: 1/100, moves: 17367, cost: 543612.0\n",
            "Run 1, iteration: 2/100, moves: 3667, cost: 543612.0\n",
            "[['50' 'Dewasa' 'M' 'China' 'Search' 'Jeans' '0']\n",
            " ['19' 'Muda' 'F' 'China' 'Search' 'Intimates' '0']]\n"
          ]
        }
      ],
      "source": [
        "km = KModes(n_clusters=2, init='Huang', n_init=1, verbose=1)\n",
        "\n",
        "clusters = km.fit_predict(data)\n",
        "\n",
        "# Print the cluster centroids\n",
        "print(km.cluster_centroids_)"
      ]
    },
    {
      "cell_type": "markdown",
      "metadata": {
        "id": "OFkGrFmi61Vq"
      },
      "source": [
        "Catatan dari instruktur\n",
        "- membuat table kmode dengan encode dan without\n",
        "- membuat table unit nya cao dan huan\n",
        "- silhoute score\n",
        "- membuat kesimpulan berdasarkan seluruhnya"
      ]
    },
    {
      "cell_type": "markdown",
      "metadata": {
        "id": "Tg6IRltEpTR3"
      },
      "source": [
        "## K-Means"
      ]
    },
    {
      "cell_type": "code",
      "execution_count": null,
      "metadata": {
        "id": "8_p6OS0SVRkG"
      },
      "outputs": [],
      "source": [
        "scaler = StandardScaler()\n",
        "scaler.fit(Data_final_preprocessing)\n",
        "X_scaled = pd.DataFrame(scaler.transform(Data_final_preprocessing), columns=Data_final_preprocessing.columns)"
      ]
    },
    {
      "cell_type": "code",
      "execution_count": null,
      "metadata": {
        "colab": {
          "base_uri": "https://localhost:8080/",
          "height": 505
        },
        "id": "fdwXXmJldPUs",
        "outputId": "259fbe09-c90b-4f13-d7d5-b9854069af10"
      },
      "outputs": [
        {
          "data": {
            "text/html": [
              "\n",
              "  <div id=\"df-bfc922a8-443a-4e3f-ab5b-5885b816545e\">\n",
              "    <div class=\"colab-df-container\">\n",
              "      <div>\n",
              "<style scoped>\n",
              "    .dataframe tbody tr th:only-of-type {\n",
              "        vertical-align: middle;\n",
              "    }\n",
              "\n",
              "    .dataframe tbody tr th {\n",
              "        vertical-align: top;\n",
              "    }\n",
              "\n",
              "    .dataframe thead th {\n",
              "        text-align: right;\n",
              "    }\n",
              "</style>\n",
              "<table border=\"1\" class=\"dataframe\">\n",
              "  <thead>\n",
              "    <tr style=\"text-align: right;\">\n",
              "      <th></th>\n",
              "      <th>age</th>\n",
              "      <th>Kategori_umur_Dewasa</th>\n",
              "      <th>Kategori_umur_Muda</th>\n",
              "      <th>gender_F</th>\n",
              "      <th>gender_M</th>\n",
              "      <th>country_Australia</th>\n",
              "      <th>country_Austria</th>\n",
              "      <th>country_Belgium</th>\n",
              "      <th>country_Brasil</th>\n",
              "      <th>country_China</th>\n",
              "      <th>...</th>\n",
              "      <th>category_Skirts</th>\n",
              "      <th>category_Sleep &amp; Lounge</th>\n",
              "      <th>category_Socks</th>\n",
              "      <th>category_Socks &amp; Hosiery</th>\n",
              "      <th>category_Suits</th>\n",
              "      <th>category_Suits &amp; Sport Coats</th>\n",
              "      <th>category_Sweaters</th>\n",
              "      <th>category_Swim</th>\n",
              "      <th>category_Tops &amp; Tees</th>\n",
              "      <th>category_Underwear</th>\n",
              "    </tr>\n",
              "  </thead>\n",
              "  <tbody>\n",
              "    <tr>\n",
              "      <th>0</th>\n",
              "      <td>0.554447</td>\n",
              "      <td>0.470581</td>\n",
              "      <td>-0.470581</td>\n",
              "      <td>1.001282</td>\n",
              "      <td>-1.001282</td>\n",
              "      <td>-0.151268</td>\n",
              "      <td>-0.007139</td>\n",
              "      <td>-0.111873</td>\n",
              "      <td>-0.413232</td>\n",
              "      <td>1.386123</td>\n",
              "      <td>...</td>\n",
              "      <td>-0.109173</td>\n",
              "      <td>-0.254074</td>\n",
              "      <td>-0.183015</td>\n",
              "      <td>-0.145868</td>\n",
              "      <td>-0.077493</td>\n",
              "      <td>-0.176739</td>\n",
              "      <td>-0.25915</td>\n",
              "      <td>-0.254982</td>\n",
              "      <td>-0.263015</td>\n",
              "      <td>-0.198133</td>\n",
              "    </tr>\n",
              "    <tr>\n",
              "      <th>1</th>\n",
              "      <td>0.625136</td>\n",
              "      <td>0.470581</td>\n",
              "      <td>-0.470581</td>\n",
              "      <td>1.001282</td>\n",
              "      <td>-1.001282</td>\n",
              "      <td>-0.151268</td>\n",
              "      <td>-0.007139</td>\n",
              "      <td>-0.111873</td>\n",
              "      <td>-0.413232</td>\n",
              "      <td>-0.721437</td>\n",
              "      <td>...</td>\n",
              "      <td>-0.109173</td>\n",
              "      <td>-0.254074</td>\n",
              "      <td>-0.183015</td>\n",
              "      <td>-0.145868</td>\n",
              "      <td>-0.077493</td>\n",
              "      <td>-0.176739</td>\n",
              "      <td>-0.25915</td>\n",
              "      <td>-0.254982</td>\n",
              "      <td>-0.263015</td>\n",
              "      <td>-0.198133</td>\n",
              "    </tr>\n",
              "    <tr>\n",
              "      <th>2</th>\n",
              "      <td>0.342381</td>\n",
              "      <td>0.470581</td>\n",
              "      <td>-0.470581</td>\n",
              "      <td>-0.998720</td>\n",
              "      <td>0.998720</td>\n",
              "      <td>-0.151268</td>\n",
              "      <td>-0.007139</td>\n",
              "      <td>-0.111873</td>\n",
              "      <td>-0.413232</td>\n",
              "      <td>1.386123</td>\n",
              "      <td>...</td>\n",
              "      <td>-0.109173</td>\n",
              "      <td>-0.254074</td>\n",
              "      <td>-0.183015</td>\n",
              "      <td>-0.145868</td>\n",
              "      <td>-0.077493</td>\n",
              "      <td>-0.176739</td>\n",
              "      <td>-0.25915</td>\n",
              "      <td>-0.254982</td>\n",
              "      <td>-0.263015</td>\n",
              "      <td>-0.198133</td>\n",
              "    </tr>\n",
              "    <tr>\n",
              "      <th>3</th>\n",
              "      <td>-1.566221</td>\n",
              "      <td>-2.125032</td>\n",
              "      <td>2.125032</td>\n",
              "      <td>-0.998720</td>\n",
              "      <td>0.998720</td>\n",
              "      <td>-0.151268</td>\n",
              "      <td>-0.007139</td>\n",
              "      <td>-0.111873</td>\n",
              "      <td>-0.413232</td>\n",
              "      <td>-0.721437</td>\n",
              "      <td>...</td>\n",
              "      <td>-0.109173</td>\n",
              "      <td>-0.254074</td>\n",
              "      <td>-0.183015</td>\n",
              "      <td>-0.145868</td>\n",
              "      <td>-0.077493</td>\n",
              "      <td>-0.176739</td>\n",
              "      <td>-0.25915</td>\n",
              "      <td>-0.254982</td>\n",
              "      <td>-0.263015</td>\n",
              "      <td>-0.198133</td>\n",
              "    </tr>\n",
              "    <tr>\n",
              "      <th>4</th>\n",
              "      <td>0.978581</td>\n",
              "      <td>0.470581</td>\n",
              "      <td>-0.470581</td>\n",
              "      <td>-0.998720</td>\n",
              "      <td>0.998720</td>\n",
              "      <td>6.610767</td>\n",
              "      <td>-0.007139</td>\n",
              "      <td>-0.111873</td>\n",
              "      <td>-0.413232</td>\n",
              "      <td>-0.721437</td>\n",
              "      <td>...</td>\n",
              "      <td>-0.109173</td>\n",
              "      <td>-0.254074</td>\n",
              "      <td>-0.183015</td>\n",
              "      <td>-0.145868</td>\n",
              "      <td>-0.077493</td>\n",
              "      <td>-0.176739</td>\n",
              "      <td>-0.25915</td>\n",
              "      <td>-0.254982</td>\n",
              "      <td>-0.263015</td>\n",
              "      <td>-0.198133</td>\n",
              "    </tr>\n",
              "    <tr>\n",
              "      <th>...</th>\n",
              "      <td>...</td>\n",
              "      <td>...</td>\n",
              "      <td>...</td>\n",
              "      <td>...</td>\n",
              "      <td>...</td>\n",
              "      <td>...</td>\n",
              "      <td>...</td>\n",
              "      <td>...</td>\n",
              "      <td>...</td>\n",
              "      <td>...</td>\n",
              "      <td>...</td>\n",
              "      <td>...</td>\n",
              "      <td>...</td>\n",
              "      <td>...</td>\n",
              "      <td>...</td>\n",
              "      <td>...</td>\n",
              "      <td>...</td>\n",
              "      <td>...</td>\n",
              "      <td>...</td>\n",
              "      <td>...</td>\n",
              "      <td>...</td>\n",
              "    </tr>\n",
              "    <tr>\n",
              "      <th>137365</th>\n",
              "      <td>1.544093</td>\n",
              "      <td>-2.125032</td>\n",
              "      <td>2.125032</td>\n",
              "      <td>1.001282</td>\n",
              "      <td>-1.001282</td>\n",
              "      <td>-0.151268</td>\n",
              "      <td>-0.007139</td>\n",
              "      <td>8.938739</td>\n",
              "      <td>-0.413232</td>\n",
              "      <td>-0.721437</td>\n",
              "      <td>...</td>\n",
              "      <td>-0.109173</td>\n",
              "      <td>-0.254074</td>\n",
              "      <td>-0.183015</td>\n",
              "      <td>-0.145868</td>\n",
              "      <td>-0.077493</td>\n",
              "      <td>-0.176739</td>\n",
              "      <td>-0.25915</td>\n",
              "      <td>-0.254982</td>\n",
              "      <td>3.802061</td>\n",
              "      <td>-0.198133</td>\n",
              "    </tr>\n",
              "    <tr>\n",
              "      <th>137366</th>\n",
              "      <td>-1.495532</td>\n",
              "      <td>0.470581</td>\n",
              "      <td>-0.470581</td>\n",
              "      <td>1.001282</td>\n",
              "      <td>-1.001282</td>\n",
              "      <td>-0.151268</td>\n",
              "      <td>-0.007139</td>\n",
              "      <td>-0.111873</td>\n",
              "      <td>-0.413232</td>\n",
              "      <td>1.386123</td>\n",
              "      <td>...</td>\n",
              "      <td>-0.109173</td>\n",
              "      <td>-0.254074</td>\n",
              "      <td>-0.183015</td>\n",
              "      <td>-0.145868</td>\n",
              "      <td>-0.077493</td>\n",
              "      <td>-0.176739</td>\n",
              "      <td>-0.25915</td>\n",
              "      <td>-0.254982</td>\n",
              "      <td>-0.263015</td>\n",
              "      <td>-0.198133</td>\n",
              "    </tr>\n",
              "    <tr>\n",
              "      <th>137367</th>\n",
              "      <td>-1.707599</td>\n",
              "      <td>0.470581</td>\n",
              "      <td>-0.470581</td>\n",
              "      <td>1.001282</td>\n",
              "      <td>-1.001282</td>\n",
              "      <td>-0.151268</td>\n",
              "      <td>-0.007139</td>\n",
              "      <td>-0.111873</td>\n",
              "      <td>-0.413232</td>\n",
              "      <td>-0.721437</td>\n",
              "      <td>...</td>\n",
              "      <td>-0.109173</td>\n",
              "      <td>-0.254074</td>\n",
              "      <td>-0.183015</td>\n",
              "      <td>-0.145868</td>\n",
              "      <td>-0.077493</td>\n",
              "      <td>-0.176739</td>\n",
              "      <td>-0.25915</td>\n",
              "      <td>-0.254982</td>\n",
              "      <td>3.802061</td>\n",
              "      <td>-0.198133</td>\n",
              "    </tr>\n",
              "    <tr>\n",
              "      <th>137368</th>\n",
              "      <td>-1.495532</td>\n",
              "      <td>0.470581</td>\n",
              "      <td>-0.470581</td>\n",
              "      <td>1.001282</td>\n",
              "      <td>-1.001282</td>\n",
              "      <td>6.610767</td>\n",
              "      <td>-0.007139</td>\n",
              "      <td>-0.111873</td>\n",
              "      <td>-0.413232</td>\n",
              "      <td>-0.721437</td>\n",
              "      <td>...</td>\n",
              "      <td>-0.109173</td>\n",
              "      <td>-0.254074</td>\n",
              "      <td>-0.183015</td>\n",
              "      <td>-0.145868</td>\n",
              "      <td>-0.077493</td>\n",
              "      <td>-0.176739</td>\n",
              "      <td>-0.25915</td>\n",
              "      <td>-0.254982</td>\n",
              "      <td>3.802061</td>\n",
              "      <td>-0.198133</td>\n",
              "    </tr>\n",
              "    <tr>\n",
              "      <th>137369</th>\n",
              "      <td>0.483759</td>\n",
              "      <td>0.470581</td>\n",
              "      <td>-0.470581</td>\n",
              "      <td>1.001282</td>\n",
              "      <td>-1.001282</td>\n",
              "      <td>-0.151268</td>\n",
              "      <td>-0.007139</td>\n",
              "      <td>-0.111873</td>\n",
              "      <td>-0.413232</td>\n",
              "      <td>-0.721437</td>\n",
              "      <td>...</td>\n",
              "      <td>-0.109173</td>\n",
              "      <td>-0.254074</td>\n",
              "      <td>-0.183015</td>\n",
              "      <td>-0.145868</td>\n",
              "      <td>-0.077493</td>\n",
              "      <td>-0.176739</td>\n",
              "      <td>-0.25915</td>\n",
              "      <td>-0.254982</td>\n",
              "      <td>-0.263015</td>\n",
              "      <td>-0.198133</td>\n",
              "    </tr>\n",
              "  </tbody>\n",
              "</table>\n",
              "<p>137370 rows × 51 columns</p>\n",
              "</div>\n",
              "      <button class=\"colab-df-convert\" onclick=\"convertToInteractive('df-bfc922a8-443a-4e3f-ab5b-5885b816545e')\"\n",
              "              title=\"Convert this dataframe to an interactive table.\"\n",
              "              style=\"display:none;\">\n",
              "        \n",
              "  <svg xmlns=\"http://www.w3.org/2000/svg\" height=\"24px\"viewBox=\"0 0 24 24\"\n",
              "       width=\"24px\">\n",
              "    <path d=\"M0 0h24v24H0V0z\" fill=\"none\"/>\n",
              "    <path d=\"M18.56 5.44l.94 2.06.94-2.06 2.06-.94-2.06-.94-.94-2.06-.94 2.06-2.06.94zm-11 1L8.5 8.5l.94-2.06 2.06-.94-2.06-.94L8.5 2.5l-.94 2.06-2.06.94zm10 10l.94 2.06.94-2.06 2.06-.94-2.06-.94-.94-2.06-.94 2.06-2.06.94z\"/><path d=\"M17.41 7.96l-1.37-1.37c-.4-.4-.92-.59-1.43-.59-.52 0-1.04.2-1.43.59L10.3 9.45l-7.72 7.72c-.78.78-.78 2.05 0 2.83L4 21.41c.39.39.9.59 1.41.59.51 0 1.02-.2 1.41-.59l7.78-7.78 2.81-2.81c.8-.78.8-2.07 0-2.86zM5.41 20L4 18.59l7.72-7.72 1.47 1.35L5.41 20z\"/>\n",
              "  </svg>\n",
              "      </button>\n",
              "      \n",
              "  <style>\n",
              "    .colab-df-container {\n",
              "      display:flex;\n",
              "      flex-wrap:wrap;\n",
              "      gap: 12px;\n",
              "    }\n",
              "\n",
              "    .colab-df-convert {\n",
              "      background-color: #E8F0FE;\n",
              "      border: none;\n",
              "      border-radius: 50%;\n",
              "      cursor: pointer;\n",
              "      display: none;\n",
              "      fill: #1967D2;\n",
              "      height: 32px;\n",
              "      padding: 0 0 0 0;\n",
              "      width: 32px;\n",
              "    }\n",
              "\n",
              "    .colab-df-convert:hover {\n",
              "      background-color: #E2EBFA;\n",
              "      box-shadow: 0px 1px 2px rgba(60, 64, 67, 0.3), 0px 1px 3px 1px rgba(60, 64, 67, 0.15);\n",
              "      fill: #174EA6;\n",
              "    }\n",
              "\n",
              "    [theme=dark] .colab-df-convert {\n",
              "      background-color: #3B4455;\n",
              "      fill: #D2E3FC;\n",
              "    }\n",
              "\n",
              "    [theme=dark] .colab-df-convert:hover {\n",
              "      background-color: #434B5C;\n",
              "      box-shadow: 0px 1px 3px 1px rgba(0, 0, 0, 0.15);\n",
              "      filter: drop-shadow(0px 1px 2px rgba(0, 0, 0, 0.3));\n",
              "      fill: #FFFFFF;\n",
              "    }\n",
              "  </style>\n",
              "\n",
              "      <script>\n",
              "        const buttonEl =\n",
              "          document.querySelector('#df-bfc922a8-443a-4e3f-ab5b-5885b816545e button.colab-df-convert');\n",
              "        buttonEl.style.display =\n",
              "          google.colab.kernel.accessAllowed ? 'block' : 'none';\n",
              "\n",
              "        async function convertToInteractive(key) {\n",
              "          const element = document.querySelector('#df-bfc922a8-443a-4e3f-ab5b-5885b816545e');\n",
              "          const dataTable =\n",
              "            await google.colab.kernel.invokeFunction('convertToInteractive',\n",
              "                                                     [key], {});\n",
              "          if (!dataTable) return;\n",
              "\n",
              "          const docLinkHtml = 'Like what you see? Visit the ' +\n",
              "            '<a target=\"_blank\" href=https://colab.research.google.com/notebooks/data_table.ipynb>data table notebook</a>'\n",
              "            + ' to learn more about interactive tables.';\n",
              "          element.innerHTML = '';\n",
              "          dataTable['output_type'] = 'display_data';\n",
              "          await google.colab.output.renderOutput(dataTable, element);\n",
              "          const docLink = document.createElement('div');\n",
              "          docLink.innerHTML = docLinkHtml;\n",
              "          element.appendChild(docLink);\n",
              "        }\n",
              "      </script>\n",
              "    </div>\n",
              "  </div>\n",
              "  "
            ],
            "text/plain": [
              "             age  Kategori_umur_Dewasa  Kategori_umur_Muda  gender_F  \\\n",
              "0       0.554447              0.470581           -0.470581  1.001282   \n",
              "1       0.625136              0.470581           -0.470581  1.001282   \n",
              "2       0.342381              0.470581           -0.470581 -0.998720   \n",
              "3      -1.566221             -2.125032            2.125032 -0.998720   \n",
              "4       0.978581              0.470581           -0.470581 -0.998720   \n",
              "...          ...                   ...                 ...       ...   \n",
              "137365  1.544093             -2.125032            2.125032  1.001282   \n",
              "137366 -1.495532              0.470581           -0.470581  1.001282   \n",
              "137367 -1.707599              0.470581           -0.470581  1.001282   \n",
              "137368 -1.495532              0.470581           -0.470581  1.001282   \n",
              "137369  0.483759              0.470581           -0.470581  1.001282   \n",
              "\n",
              "        gender_M  country_Australia  country_Austria  country_Belgium  \\\n",
              "0      -1.001282          -0.151268        -0.007139        -0.111873   \n",
              "1      -1.001282          -0.151268        -0.007139        -0.111873   \n",
              "2       0.998720          -0.151268        -0.007139        -0.111873   \n",
              "3       0.998720          -0.151268        -0.007139        -0.111873   \n",
              "4       0.998720           6.610767        -0.007139        -0.111873   \n",
              "...          ...                ...              ...              ...   \n",
              "137365 -1.001282          -0.151268        -0.007139         8.938739   \n",
              "137366 -1.001282          -0.151268        -0.007139        -0.111873   \n",
              "137367 -1.001282          -0.151268        -0.007139        -0.111873   \n",
              "137368 -1.001282           6.610767        -0.007139        -0.111873   \n",
              "137369 -1.001282          -0.151268        -0.007139        -0.111873   \n",
              "\n",
              "        country_Brasil  country_China  ...  category_Skirts  \\\n",
              "0            -0.413232       1.386123  ...        -0.109173   \n",
              "1            -0.413232      -0.721437  ...        -0.109173   \n",
              "2            -0.413232       1.386123  ...        -0.109173   \n",
              "3            -0.413232      -0.721437  ...        -0.109173   \n",
              "4            -0.413232      -0.721437  ...        -0.109173   \n",
              "...                ...            ...  ...              ...   \n",
              "137365       -0.413232      -0.721437  ...        -0.109173   \n",
              "137366       -0.413232       1.386123  ...        -0.109173   \n",
              "137367       -0.413232      -0.721437  ...        -0.109173   \n",
              "137368       -0.413232      -0.721437  ...        -0.109173   \n",
              "137369       -0.413232      -0.721437  ...        -0.109173   \n",
              "\n",
              "        category_Sleep & Lounge  category_Socks  category_Socks & Hosiery  \\\n",
              "0                     -0.254074       -0.183015                 -0.145868   \n",
              "1                     -0.254074       -0.183015                 -0.145868   \n",
              "2                     -0.254074       -0.183015                 -0.145868   \n",
              "3                     -0.254074       -0.183015                 -0.145868   \n",
              "4                     -0.254074       -0.183015                 -0.145868   \n",
              "...                         ...             ...                       ...   \n",
              "137365                -0.254074       -0.183015                 -0.145868   \n",
              "137366                -0.254074       -0.183015                 -0.145868   \n",
              "137367                -0.254074       -0.183015                 -0.145868   \n",
              "137368                -0.254074       -0.183015                 -0.145868   \n",
              "137369                -0.254074       -0.183015                 -0.145868   \n",
              "\n",
              "        category_Suits  category_Suits & Sport Coats  category_Sweaters  \\\n",
              "0            -0.077493                     -0.176739           -0.25915   \n",
              "1            -0.077493                     -0.176739           -0.25915   \n",
              "2            -0.077493                     -0.176739           -0.25915   \n",
              "3            -0.077493                     -0.176739           -0.25915   \n",
              "4            -0.077493                     -0.176739           -0.25915   \n",
              "...                ...                           ...                ...   \n",
              "137365       -0.077493                     -0.176739           -0.25915   \n",
              "137366       -0.077493                     -0.176739           -0.25915   \n",
              "137367       -0.077493                     -0.176739           -0.25915   \n",
              "137368       -0.077493                     -0.176739           -0.25915   \n",
              "137369       -0.077493                     -0.176739           -0.25915   \n",
              "\n",
              "        category_Swim  category_Tops & Tees  category_Underwear  \n",
              "0           -0.254982             -0.263015           -0.198133  \n",
              "1           -0.254982             -0.263015           -0.198133  \n",
              "2           -0.254982             -0.263015           -0.198133  \n",
              "3           -0.254982             -0.263015           -0.198133  \n",
              "4           -0.254982             -0.263015           -0.198133  \n",
              "...               ...                   ...                 ...  \n",
              "137365      -0.254982              3.802061           -0.198133  \n",
              "137366      -0.254982             -0.263015           -0.198133  \n",
              "137367      -0.254982              3.802061           -0.198133  \n",
              "137368      -0.254982              3.802061           -0.198133  \n",
              "137369      -0.254982             -0.263015           -0.198133  \n",
              "\n",
              "[137370 rows x 51 columns]"
            ]
          },
          "execution_count": 163,
          "metadata": {},
          "output_type": "execute_result"
        }
      ],
      "source": [
        "X_scaled"
      ]
    },
    {
      "cell_type": "markdown",
      "metadata": {
        "id": "6DbDfuB8cKhB"
      },
      "source": [
        "Dalam masalah ini, ada banyak faktor yang menjadi dasar klasifikasi akhir akan dilakukan. Faktor-faktor ini pada dasarnya adalah atribut atau fitur. Semakin tinggi jumlah fitur, semakin sulit untuk bekerja dengannya. Banyak dari fitur ini berkorelasi, dan karenanya berlebihan. Inilah sebabnya mengapa saya akan melakukan dimensionality reduction pada fitur yang dipilih sebelum menempatkannya melalui pengklasifikasi.\n",
        "dimensionality reduction adalah proses mengurangi jumlah variabel acak yang dipertimbangkan, dengan memperoleh satu set variabel utama.\n",
        "\n",
        "Principal component analysis (PCA) adalah teknik untuk mengurangi dimensi kumpulan data tersebut, meningkatkan interpretasi tetapi pada saat yang sama meminimalkan kehilangan informasi."
      ]
    },
    {
      "cell_type": "code",
      "execution_count": null,
      "metadata": {
        "colab": {
          "base_uri": "https://localhost:8080/",
          "height": 143
        },
        "id": "ddhUNiJrHB0S",
        "outputId": "b4bc527b-fa18-4dcf-aa19-46e0289bf73f"
      },
      "outputs": [
        {
          "data": {
            "text/html": [
              "\n",
              "  <div id=\"df-25b70748-10dd-4ec8-9b01-36fb313bf8de\">\n",
              "    <div class=\"colab-df-container\">\n",
              "      <div>\n",
              "<style scoped>\n",
              "    .dataframe tbody tr th:only-of-type {\n",
              "        vertical-align: middle;\n",
              "    }\n",
              "\n",
              "    .dataframe tbody tr th {\n",
              "        vertical-align: top;\n",
              "    }\n",
              "\n",
              "    .dataframe thead th {\n",
              "        text-align: right;\n",
              "    }\n",
              "</style>\n",
              "<table border=\"1\" class=\"dataframe\">\n",
              "  <thead>\n",
              "    <tr style=\"text-align: right;\">\n",
              "      <th></th>\n",
              "      <th>count</th>\n",
              "      <th>mean</th>\n",
              "      <th>std</th>\n",
              "      <th>min</th>\n",
              "      <th>25%</th>\n",
              "      <th>50%</th>\n",
              "      <th>75%</th>\n",
              "      <th>max</th>\n",
              "    </tr>\n",
              "  </thead>\n",
              "  <tbody>\n",
              "    <tr>\n",
              "      <th>col1</th>\n",
              "      <td>137370.0</td>\n",
              "      <td>2.060714e-16</td>\n",
              "      <td>1.602584</td>\n",
              "      <td>-2.745269</td>\n",
              "      <td>-1.402835</td>\n",
              "      <td>-1.245724</td>\n",
              "      <td>1.947317</td>\n",
              "      <td>2.864501</td>\n",
              "    </tr>\n",
              "    <tr>\n",
              "      <th>col2</th>\n",
              "      <td>137370.0</td>\n",
              "      <td>4.717296e-17</td>\n",
              "      <td>1.414595</td>\n",
              "      <td>-1.492792</td>\n",
              "      <td>-0.682448</td>\n",
              "      <td>-0.653294</td>\n",
              "      <td>-0.607103</td>\n",
              "      <td>4.000069</td>\n",
              "    </tr>\n",
              "    <tr>\n",
              "      <th>col3</th>\n",
              "      <td>137370.0</td>\n",
              "      <td>4.965575e-18</td>\n",
              "      <td>1.336342</td>\n",
              "      <td>-2.356627</td>\n",
              "      <td>-0.894196</td>\n",
              "      <td>-0.835400</td>\n",
              "      <td>1.822132</td>\n",
              "      <td>3.174405</td>\n",
              "    </tr>\n",
              "  </tbody>\n",
              "</table>\n",
              "</div>\n",
              "      <button class=\"colab-df-convert\" onclick=\"convertToInteractive('df-25b70748-10dd-4ec8-9b01-36fb313bf8de')\"\n",
              "              title=\"Convert this dataframe to an interactive table.\"\n",
              "              style=\"display:none;\">\n",
              "        \n",
              "  <svg xmlns=\"http://www.w3.org/2000/svg\" height=\"24px\"viewBox=\"0 0 24 24\"\n",
              "       width=\"24px\">\n",
              "    <path d=\"M0 0h24v24H0V0z\" fill=\"none\"/>\n",
              "    <path d=\"M18.56 5.44l.94 2.06.94-2.06 2.06-.94-2.06-.94-.94-2.06-.94 2.06-2.06.94zm-11 1L8.5 8.5l.94-2.06 2.06-.94-2.06-.94L8.5 2.5l-.94 2.06-2.06.94zm10 10l.94 2.06.94-2.06 2.06-.94-2.06-.94-.94-2.06-.94 2.06-2.06.94z\"/><path d=\"M17.41 7.96l-1.37-1.37c-.4-.4-.92-.59-1.43-.59-.52 0-1.04.2-1.43.59L10.3 9.45l-7.72 7.72c-.78.78-.78 2.05 0 2.83L4 21.41c.39.39.9.59 1.41.59.51 0 1.02-.2 1.41-.59l7.78-7.78 2.81-2.81c.8-.78.8-2.07 0-2.86zM5.41 20L4 18.59l7.72-7.72 1.47 1.35L5.41 20z\"/>\n",
              "  </svg>\n",
              "      </button>\n",
              "      \n",
              "  <style>\n",
              "    .colab-df-container {\n",
              "      display:flex;\n",
              "      flex-wrap:wrap;\n",
              "      gap: 12px;\n",
              "    }\n",
              "\n",
              "    .colab-df-convert {\n",
              "      background-color: #E8F0FE;\n",
              "      border: none;\n",
              "      border-radius: 50%;\n",
              "      cursor: pointer;\n",
              "      display: none;\n",
              "      fill: #1967D2;\n",
              "      height: 32px;\n",
              "      padding: 0 0 0 0;\n",
              "      width: 32px;\n",
              "    }\n",
              "\n",
              "    .colab-df-convert:hover {\n",
              "      background-color: #E2EBFA;\n",
              "      box-shadow: 0px 1px 2px rgba(60, 64, 67, 0.3), 0px 1px 3px 1px rgba(60, 64, 67, 0.15);\n",
              "      fill: #174EA6;\n",
              "    }\n",
              "\n",
              "    [theme=dark] .colab-df-convert {\n",
              "      background-color: #3B4455;\n",
              "      fill: #D2E3FC;\n",
              "    }\n",
              "\n",
              "    [theme=dark] .colab-df-convert:hover {\n",
              "      background-color: #434B5C;\n",
              "      box-shadow: 0px 1px 3px 1px rgba(0, 0, 0, 0.15);\n",
              "      filter: drop-shadow(0px 1px 2px rgba(0, 0, 0, 0.3));\n",
              "      fill: #FFFFFF;\n",
              "    }\n",
              "  </style>\n",
              "\n",
              "      <script>\n",
              "        const buttonEl =\n",
              "          document.querySelector('#df-25b70748-10dd-4ec8-9b01-36fb313bf8de button.colab-df-convert');\n",
              "        buttonEl.style.display =\n",
              "          google.colab.kernel.accessAllowed ? 'block' : 'none';\n",
              "\n",
              "        async function convertToInteractive(key) {\n",
              "          const element = document.querySelector('#df-25b70748-10dd-4ec8-9b01-36fb313bf8de');\n",
              "          const dataTable =\n",
              "            await google.colab.kernel.invokeFunction('convertToInteractive',\n",
              "                                                     [key], {});\n",
              "          if (!dataTable) return;\n",
              "\n",
              "          const docLinkHtml = 'Like what you see? Visit the ' +\n",
              "            '<a target=\"_blank\" href=https://colab.research.google.com/notebooks/data_table.ipynb>data table notebook</a>'\n",
              "            + ' to learn more about interactive tables.';\n",
              "          element.innerHTML = '';\n",
              "          dataTable['output_type'] = 'display_data';\n",
              "          await google.colab.output.renderOutput(dataTable, element);\n",
              "          const docLink = document.createElement('div');\n",
              "          docLink.innerHTML = docLinkHtml;\n",
              "          element.appendChild(docLink);\n",
              "        }\n",
              "      </script>\n",
              "    </div>\n",
              "  </div>\n",
              "  "
            ],
            "text/plain": [
              "         count          mean       std       min       25%       50%  \\\n",
              "col1  137370.0  2.060714e-16  1.602584 -2.745269 -1.402835 -1.245724   \n",
              "col2  137370.0  4.717296e-17  1.414595 -1.492792 -0.682448 -0.653294   \n",
              "col3  137370.0  4.965575e-18  1.336342 -2.356627 -0.894196 -0.835400   \n",
              "\n",
              "           75%       max  \n",
              "col1  1.947317  2.864501  \n",
              "col2 -0.607103  4.000069  \n",
              "col3  1.822132  3.174405  "
            ]
          },
          "execution_count": 165,
          "metadata": {},
          "output_type": "execute_result"
        }
      ],
      "source": [
        "from sklearn.decomposition import PCA\n",
        "pca = PCA(n_components=3)\n",
        "pca.fit(X_scaled)\n",
        "PCA_ds = pd.DataFrame(pca.transform(X_scaled), columns=([\"col1\",\"col2\", \"col3\"]))\n",
        "PCA_ds.describe().T"
      ]
    },
    {
      "cell_type": "code",
      "execution_count": null,
      "metadata": {
        "colab": {
          "base_uri": "https://localhost:8080/",
          "height": 466
        },
        "id": "p5ULeCayLaa2",
        "outputId": "4d2ca584-fec9-447e-a7d6-1affdad2698e"
      },
      "outputs": [
        {
          "data": {
            "image/png": "[encoded data removed]",
            "text/plain": [
              "<Figure size 720x576 with 1 Axes>"
            ]
          },
          "metadata": {},
          "output_type": "display_data"
        }
      ],
      "source": [
        "x =PCA_ds[\"col1\"]\n",
        "y =PCA_ds[\"col2\"]\n",
        "z =PCA_ds[\"col3\"]\n",
        "#To plot\n",
        "fig = plt.figure(figsize=(10,8))\n",
        "ax = fig.add_subplot(111, projection=\"3d\")\n",
        "ax.scatter(x,y,z, c=\"maroon\", marker=\"o\" )\n",
        "ax.set_title(\"3D Projection data yang sudah dilakukan Dimensionality Reduction\")\n",
        "plt.show()"
      ]
    },
    {
      "cell_type": "code",
      "execution_count": null,
      "metadata": {
        "colab": {
          "base_uri": "https://localhost:8080/",
          "height": 411
        },
        "id": "eyFTlWZkLePY",
        "outputId": "039c501e-c20d-4356-d4ac-de332c3bbb4b"
      },
      "outputs": [
        {
          "name": "stdout",
          "output_type": "stream",
          "text": [
            "Elbow Method untuk melihat nilai k yang terbaik :\n"
          ]
        },
        {
          "data": {
            "image/png": "[encoded data removed]",
            "text/plain": [
              "<Figure size 576x396 with 2 Axes>"
            ]
          },
          "metadata": {},
          "output_type": "display_data"
        },
        {
          "data": {
            "text/plain": [
              "<matplotlib.axes._subplots.AxesSubplot at 0x7fe8e1e316d0>"
            ]
          },
          "execution_count": 167,
          "metadata": {},
          "output_type": "execute_result"
        }
      ],
      "source": [
        "from yellowbrick.cluster import KElbowVisualizer\n",
        "print('Elbow Method untuk melihat nilai k yang terbaik :')\n",
        "Elbow_M = KElbowVisualizer(KMeans(), k=10)\n",
        "Elbow_M.fit(PCA_ds)\n",
        "Elbow_M.show()"
      ]
    },
    {
      "cell_type": "code",
      "execution_count": null,
      "metadata": {
        "colab": {
          "base_uri": "https://localhost:8080/"
        },
        "id": "5TRyOlkVc74o",
        "outputId": "a0372a22-e54e-4257-a50e-411d438a1514"
      },
      "outputs": [
        {
          "name": "stderr",
          "output_type": "stream",
          "text": [
            "/usr/local/lib/python3.7/dist-packages/ipykernel_launcher.py:6: SettingWithCopyWarning: \n",
            "A value is trying to be set on a copy of a slice from a DataFrame.\n",
            "Try using .loc[row_indexer,col_indexer] = value instead\n",
            "\n",
            "See the caveats in the documentation: https://pandas.pydata.org/pandas-docs/stable/user_guide/indexing.html#returning-a-view-versus-a-copy\n",
            "  \n"
          ]
        }
      ],
      "source": [
        "KM = KMeans(n_clusters=5)\n",
        "# fit model and predict clusters\n",
        "yhat_KM = KM.fit_predict(PCA_ds)\n",
        "PCA_ds[\"Clusters\"] = yhat_KM\n",
        "#Adding the Clusters feature to the orignal dataframe.\n",
        "Data_final_preprocessing[\"Clusters\"]= yhat_KM"
      ]
    },
    {
      "cell_type": "code",
      "execution_count": null,
      "metadata": {
        "colab": {
          "base_uri": "https://localhost:8080/",
          "height": 466
        },
        "id": "QObaxSZZdyaI",
        "outputId": "230cb66b-316b-4048-bb38-ae3a2463b045"
      },
      "outputs": [
        {
          "data": {
            "image/png": "[encoded data removed]",
            "text/plain": [
              "<Figure size 720x576 with 1 Axes>"
            ]
          },
          "metadata": {},
          "output_type": "display_data"
        }
      ],
      "source": [
        "from matplotlib import colors\n",
        "from matplotlib.colors import ListedColormap\n",
        "cmap = colors.ListedColormap([\"#682F2F\", \"#9E726F\", \"#D6B2B1\", \"#B9C0C9\", \"#9F8A78\", \"#F3AB60\"])\n",
        "fig = plt.figure(figsize=(10,8))\n",
        "ax = plt.subplot(111, projection='3d', label=\"bla\")\n",
        "ax.scatter(x, y, z, s=40, c=PCA_ds[\"Clusters\"], marker='o', cmap=cmap)\n",
        "ax.set_title(\"Penyebaran Clusters\")\n",
        "plt.show()"
      ]
    },
    {
      "cell_type": "markdown",
      "metadata": {
        "id": "-VoiMC0PegHY"
      },
      "source": [
        "# Evaluation"
      ]
    },
    {
      "cell_type": "code",
      "execution_count": null,
      "metadata": {
        "colab": {
          "base_uri": "https://localhost:8080/",
          "height": 376
        },
        "id": "LxEs1DdqLoAD",
        "outputId": "6f9f9401-a575-4ff4-d43d-fd91637eee25"
      },
      "outputs": [
        {
          "data": {
            "image/png": "[encoded data removed]",
            "text/plain": [
              "<Figure size 576x396 with 1 Axes>"
            ]
          },
          "metadata": {},
          "output_type": "display_data"
        }
      ],
      "source": [
        "import seaborn as sns\n",
        "pal = [\"#682F2F\",\"#B9C0C9\", \"#9F8A78\",\"#F3AB60\"]\n",
        "pl = sns.countplot(x=Data_final_preprocessing[\"Clusters\"], palette= pal)\n",
        "pl.set_title(\"Distribution Of The Clusters\")\n",
        "plt.show()"
      ]
    },
    {
      "cell_type": "code",
      "execution_count": null,
      "metadata": {
        "colab": {
          "base_uri": "https://localhost:8080/"
        },
        "id": "94n2aXn9fCfc",
        "outputId": "99fd3d68-e480-48f1-d531-dd3c2161d2ba"
      },
      "outputs": [
        {
          "name": "stdout",
          "output_type": "stream",
          "text": [
            "0.015259866100620217\n"
          ]
        }
      ],
      "source": [
        "print(silhouette_score(Data_final_preprocessing, labels= Data_final_preprocessing[\"Clusters\"]))"
      ]
    }
  ],
  "metadata": {
    "colab": {
      "collapsed_sections": [],
      "name": "Project-Akhir.ipynb",
      "provenance": []
    },
    "interpreter": {
      "hash": "11938c6bc6919ae2720b4d5011047913343b08a43b18698fd82dedb0d4417594"
    },
    "kernelspec": {
      "display_name": "Python 3.9.2 64-bit",
      "language": "python",
      "name": "python3"
    },
    "language_info": {
      "codemirror_mode": {
        "name": "ipython",
        "version": 3
      },
      "file_extension": ".py",
      "mimetype": "text/x-python",
      "name": "python",
      "nbconvert_exporter": "python",
      "pygments_lexer": "ipython3",
      "version": "3.9.2"
    },
    "orig_nbformat": 4
  },
  "nbformat": 4,
  "nbformat_minor": 0
}
